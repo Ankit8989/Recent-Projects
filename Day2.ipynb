{
 "cells": [
  {
   "cell_type": "code",
   "execution_count": 1,
   "id": "cabaa035",
   "metadata": {},
   "outputs": [],
   "source": [
    "import pandas as pd\n",
    "import numpy as np\n",
    "import matplotlib.pyplot as plt"
   ]
  },
  {
   "cell_type": "markdown",
   "id": "7dbe2286",
   "metadata": {},
   "source": [
    "# Reshaping"
   ]
  },
  {
   "cell_type": "code",
   "execution_count": 2,
   "id": "829b2ce5",
   "metadata": {},
   "outputs": [],
   "source": [
    "url = 'https://raw.githubusercontent.com/skathirmani/datasets/main/employees_attrition.csv'\n",
    "employees = pd.read_csv(url)"
   ]
  },
  {
   "cell_type": "code",
   "execution_count": 3,
   "id": "5de773e3",
   "metadata": {},
   "outputs": [
    {
     "data": {
      "text/html": [
       "<div>\n",
       "<style scoped>\n",
       "    .dataframe tbody tr th:only-of-type {\n",
       "        vertical-align: middle;\n",
       "    }\n",
       "\n",
       "    .dataframe tbody tr th {\n",
       "        vertical-align: top;\n",
       "    }\n",
       "\n",
       "    .dataframe thead th {\n",
       "        text-align: right;\n",
       "    }\n",
       "</style>\n",
       "<table border=\"1\" class=\"dataframe\">\n",
       "  <thead>\n",
       "    <tr style=\"text-align: right;\">\n",
       "      <th></th>\n",
       "      <th>Age</th>\n",
       "      <th>Attrition</th>\n",
       "      <th>BusinessTravel</th>\n",
       "      <th>DailyRate</th>\n",
       "      <th>Department</th>\n",
       "      <th>DistanceFromHome</th>\n",
       "      <th>Education</th>\n",
       "      <th>EducationField</th>\n",
       "      <th>EmployeeCount</th>\n",
       "      <th>EmployeeNumber</th>\n",
       "      <th>...</th>\n",
       "      <th>RelationshipSatisfaction</th>\n",
       "      <th>StandardHours</th>\n",
       "      <th>StockOptionLevel</th>\n",
       "      <th>TotalWorkingYears</th>\n",
       "      <th>TrainingTimesLastYear</th>\n",
       "      <th>WorkLifeBalance</th>\n",
       "      <th>YearsAtCompany</th>\n",
       "      <th>YearsInCurrentRole</th>\n",
       "      <th>YearsSinceLastPromotion</th>\n",
       "      <th>YearsWithCurrManager</th>\n",
       "    </tr>\n",
       "  </thead>\n",
       "  <tbody>\n",
       "    <tr>\n",
       "      <th>0</th>\n",
       "      <td>41</td>\n",
       "      <td>1</td>\n",
       "      <td>Travel_Rarely</td>\n",
       "      <td>1102</td>\n",
       "      <td>Sales</td>\n",
       "      <td>1</td>\n",
       "      <td>2</td>\n",
       "      <td>Life Sciences</td>\n",
       "      <td>1</td>\n",
       "      <td>1</td>\n",
       "      <td>...</td>\n",
       "      <td>1</td>\n",
       "      <td>80</td>\n",
       "      <td>0</td>\n",
       "      <td>8</td>\n",
       "      <td>0</td>\n",
       "      <td>1</td>\n",
       "      <td>6</td>\n",
       "      <td>4</td>\n",
       "      <td>0</td>\n",
       "      <td>5</td>\n",
       "    </tr>\n",
       "    <tr>\n",
       "      <th>1</th>\n",
       "      <td>49</td>\n",
       "      <td>0</td>\n",
       "      <td>Travel_Frequently</td>\n",
       "      <td>279</td>\n",
       "      <td>Research &amp; Development</td>\n",
       "      <td>8</td>\n",
       "      <td>1</td>\n",
       "      <td>Life Sciences</td>\n",
       "      <td>1</td>\n",
       "      <td>2</td>\n",
       "      <td>...</td>\n",
       "      <td>4</td>\n",
       "      <td>80</td>\n",
       "      <td>1</td>\n",
       "      <td>10</td>\n",
       "      <td>3</td>\n",
       "      <td>3</td>\n",
       "      <td>10</td>\n",
       "      <td>7</td>\n",
       "      <td>1</td>\n",
       "      <td>7</td>\n",
       "    </tr>\n",
       "    <tr>\n",
       "      <th>2</th>\n",
       "      <td>37</td>\n",
       "      <td>1</td>\n",
       "      <td>Travel_Rarely</td>\n",
       "      <td>1373</td>\n",
       "      <td>Research &amp; Development</td>\n",
       "      <td>2</td>\n",
       "      <td>2</td>\n",
       "      <td>Other</td>\n",
       "      <td>1</td>\n",
       "      <td>4</td>\n",
       "      <td>...</td>\n",
       "      <td>2</td>\n",
       "      <td>80</td>\n",
       "      <td>0</td>\n",
       "      <td>7</td>\n",
       "      <td>3</td>\n",
       "      <td>3</td>\n",
       "      <td>0</td>\n",
       "      <td>0</td>\n",
       "      <td>0</td>\n",
       "      <td>0</td>\n",
       "    </tr>\n",
       "    <tr>\n",
       "      <th>3</th>\n",
       "      <td>33</td>\n",
       "      <td>0</td>\n",
       "      <td>Travel_Frequently</td>\n",
       "      <td>1392</td>\n",
       "      <td>Research &amp; Development</td>\n",
       "      <td>3</td>\n",
       "      <td>4</td>\n",
       "      <td>Life Sciences</td>\n",
       "      <td>1</td>\n",
       "      <td>5</td>\n",
       "      <td>...</td>\n",
       "      <td>3</td>\n",
       "      <td>80</td>\n",
       "      <td>0</td>\n",
       "      <td>8</td>\n",
       "      <td>3</td>\n",
       "      <td>3</td>\n",
       "      <td>8</td>\n",
       "      <td>7</td>\n",
       "      <td>3</td>\n",
       "      <td>0</td>\n",
       "    </tr>\n",
       "    <tr>\n",
       "      <th>4</th>\n",
       "      <td>27</td>\n",
       "      <td>0</td>\n",
       "      <td>Travel_Rarely</td>\n",
       "      <td>591</td>\n",
       "      <td>Research &amp; Development</td>\n",
       "      <td>2</td>\n",
       "      <td>1</td>\n",
       "      <td>Medical</td>\n",
       "      <td>1</td>\n",
       "      <td>7</td>\n",
       "      <td>...</td>\n",
       "      <td>4</td>\n",
       "      <td>80</td>\n",
       "      <td>1</td>\n",
       "      <td>6</td>\n",
       "      <td>3</td>\n",
       "      <td>3</td>\n",
       "      <td>2</td>\n",
       "      <td>2</td>\n",
       "      <td>2</td>\n",
       "      <td>2</td>\n",
       "    </tr>\n",
       "  </tbody>\n",
       "</table>\n",
       "<p>5 rows × 35 columns</p>\n",
       "</div>"
      ],
      "text/plain": [
       "   Age  Attrition     BusinessTravel  DailyRate              Department  \\\n",
       "0   41          1      Travel_Rarely       1102                   Sales   \n",
       "1   49          0  Travel_Frequently        279  Research & Development   \n",
       "2   37          1      Travel_Rarely       1373  Research & Development   \n",
       "3   33          0  Travel_Frequently       1392  Research & Development   \n",
       "4   27          0      Travel_Rarely        591  Research & Development   \n",
       "\n",
       "   DistanceFromHome  Education EducationField  EmployeeCount  EmployeeNumber  \\\n",
       "0                 1          2  Life Sciences              1               1   \n",
       "1                 8          1  Life Sciences              1               2   \n",
       "2                 2          2          Other              1               4   \n",
       "3                 3          4  Life Sciences              1               5   \n",
       "4                 2          1        Medical              1               7   \n",
       "\n",
       "   ...  RelationshipSatisfaction StandardHours  StockOptionLevel  \\\n",
       "0  ...                         1            80                 0   \n",
       "1  ...                         4            80                 1   \n",
       "2  ...                         2            80                 0   \n",
       "3  ...                         3            80                 0   \n",
       "4  ...                         4            80                 1   \n",
       "\n",
       "   TotalWorkingYears  TrainingTimesLastYear WorkLifeBalance  YearsAtCompany  \\\n",
       "0                  8                      0               1               6   \n",
       "1                 10                      3               3              10   \n",
       "2                  7                      3               3               0   \n",
       "3                  8                      3               3               8   \n",
       "4                  6                      3               3               2   \n",
       "\n",
       "  YearsInCurrentRole  YearsSinceLastPromotion  YearsWithCurrManager  \n",
       "0                  4                        0                     5  \n",
       "1                  7                        1                     7  \n",
       "2                  0                        0                     0  \n",
       "3                  7                        3                     0  \n",
       "4                  2                        2                     2  \n",
       "\n",
       "[5 rows x 35 columns]"
      ]
     },
     "execution_count": 3,
     "metadata": {},
     "output_type": "execute_result"
    }
   ],
   "source": [
    "employees.head()"
   ]
  },
  {
   "cell_type": "code",
   "execution_count": 5,
   "id": "39b24449",
   "metadata": {},
   "outputs": [
    {
     "data": {
      "text/html": [
       "<div>\n",
       "<style scoped>\n",
       "    .dataframe tbody tr th:only-of-type {\n",
       "        vertical-align: middle;\n",
       "    }\n",
       "\n",
       "    .dataframe tbody tr th {\n",
       "        vertical-align: top;\n",
       "    }\n",
       "\n",
       "    .dataframe thead th {\n",
       "        text-align: right;\n",
       "    }\n",
       "</style>\n",
       "<table border=\"1\" class=\"dataframe\">\n",
       "  <thead>\n",
       "    <tr style=\"text-align: right;\">\n",
       "      <th>Department</th>\n",
       "      <th>Human Resources</th>\n",
       "      <th>Research &amp; Development</th>\n",
       "      <th>Sales</th>\n",
       "    </tr>\n",
       "    <tr>\n",
       "      <th>JobRole</th>\n",
       "      <th></th>\n",
       "      <th></th>\n",
       "      <th></th>\n",
       "    </tr>\n",
       "  </thead>\n",
       "  <tbody>\n",
       "    <tr>\n",
       "      <th>Healthcare Representative</th>\n",
       "      <td>NaN</td>\n",
       "      <td>7528.763359</td>\n",
       "      <td>NaN</td>\n",
       "    </tr>\n",
       "    <tr>\n",
       "      <th>Human Resources</th>\n",
       "      <td>4235.750000</td>\n",
       "      <td>NaN</td>\n",
       "      <td>NaN</td>\n",
       "    </tr>\n",
       "    <tr>\n",
       "      <th>Laboratory Technician</th>\n",
       "      <td>NaN</td>\n",
       "      <td>3237.169884</td>\n",
       "      <td>NaN</td>\n",
       "    </tr>\n",
       "    <tr>\n",
       "      <th>Manager</th>\n",
       "      <td>18088.636364</td>\n",
       "      <td>17130.333333</td>\n",
       "      <td>16986.972973</td>\n",
       "    </tr>\n",
       "    <tr>\n",
       "      <th>Manufacturing Director</th>\n",
       "      <td>NaN</td>\n",
       "      <td>7295.137931</td>\n",
       "      <td>NaN</td>\n",
       "    </tr>\n",
       "  </tbody>\n",
       "</table>\n",
       "</div>"
      ],
      "text/plain": [
       "Department                 Human Resources  Research & Development  \\\n",
       "JobRole                                                              \n",
       "Healthcare Representative              NaN             7528.763359   \n",
       "Human Resources                4235.750000                     NaN   \n",
       "Laboratory Technician                  NaN             3237.169884   \n",
       "Manager                       18088.636364            17130.333333   \n",
       "Manufacturing Director                 NaN             7295.137931   \n",
       "\n",
       "Department                        Sales  \n",
       "JobRole                                  \n",
       "Healthcare Representative           NaN  \n",
       "Human Resources                     NaN  \n",
       "Laboratory Technician               NaN  \n",
       "Manager                    16986.972973  \n",
       "Manufacturing Director              NaN  "
      ]
     },
     "execution_count": 5,
     "metadata": {},
     "output_type": "execute_result"
    }
   ],
   "source": [
    "employees['JobRole_New'] = employees['JobRole'].replace({'Research Director': 'Group1',\n",
    "                                                         'Manufacturing Director': 'Group1'}) \n",
    "summary = employees.pivot_table(index='JobRole',\n",
    "                                columns='Department',\n",
    "                                values='MonthlyIncome',\n",
    "                                aggfunc='mean')\n",
    "summary.head()"
   ]
  },
  {
   "cell_type": "markdown",
   "id": "c80ac067",
   "metadata": {},
   "source": [
    "# Melting"
   ]
  },
  {
   "cell_type": "code",
   "execution_count": 6,
   "id": "c1dcf88d",
   "metadata": {},
   "outputs": [
    {
     "data": {
      "text/html": [
       "<div>\n",
       "<style scoped>\n",
       "    .dataframe tbody tr th:only-of-type {\n",
       "        vertical-align: middle;\n",
       "    }\n",
       "\n",
       "    .dataframe tbody tr th {\n",
       "        vertical-align: top;\n",
       "    }\n",
       "\n",
       "    .dataframe thead th {\n",
       "        text-align: right;\n",
       "    }\n",
       "</style>\n",
       "<table border=\"1\" class=\"dataframe\">\n",
       "  <thead>\n",
       "    <tr style=\"text-align: right;\">\n",
       "      <th></th>\n",
       "      <th>year</th>\n",
       "      <th>prod-A</th>\n",
       "      <th>prod-B</th>\n",
       "      <th>prod-C</th>\n",
       "    </tr>\n",
       "  </thead>\n",
       "  <tbody>\n",
       "    <tr>\n",
       "      <th>0</th>\n",
       "      <td>2020</td>\n",
       "      <td>10</td>\n",
       "      <td>30</td>\n",
       "      <td>50</td>\n",
       "    </tr>\n",
       "    <tr>\n",
       "      <th>1</th>\n",
       "      <td>2021</td>\n",
       "      <td>20</td>\n",
       "      <td>40</td>\n",
       "      <td>60</td>\n",
       "    </tr>\n",
       "  </tbody>\n",
       "</table>\n",
       "</div>"
      ],
      "text/plain": [
       "   year  prod-A  prod-B  prod-C\n",
       "0  2020      10      30      50\n",
       "1  2021      20      40      60"
      ]
     },
     "execution_count": 6,
     "metadata": {},
     "output_type": "execute_result"
    }
   ],
   "source": [
    "df = pd.DataFrame({\n",
    "    'year': [2020, 2021],\n",
    "    'prod-A':[ 10, 20],\n",
    "    'prod-B': [30, 40],\n",
    "    'prod-C': [50, 60]\n",
    "})\n",
    "df.head()"
   ]
  },
  {
   "cell_type": "code",
   "execution_count": 7,
   "id": "57642185",
   "metadata": {},
   "outputs": [],
   "source": [
    "df_long = df.melt(id_vars=['year']).rename(columns={'variable': 'product_name',\n",
    "                                                    'value': 'sales'})\n",
    "#df_long.columns = ['year', 'product_name', 'sales']\n",
    "#df_long"
   ]
  },
  {
   "cell_type": "markdown",
   "id": "2badb654",
   "metadata": {},
   "source": [
    "# Exercises\n",
    "Filter the data for India alone\n",
    "Convert filtered data to long format\n",
    "rename: variable--> date, value--> confirmed\n",
    "Get the value from last row, confirmed column"
   ]
  },
  {
   "cell_type": "code",
   "execution_count": 8,
   "id": "53d7690a",
   "metadata": {},
   "outputs": [
    {
     "data": {
      "text/plain": [
       "(282, 757)"
      ]
     },
     "execution_count": 8,
     "metadata": {},
     "output_type": "execute_result"
    }
   ],
   "source": [
    "url = 'https://raw.githubusercontent.com/CSSEGISandData/COVID-19/master/csse_covid_19_data/csse_covid_19_time_series/time_series_covid19_confirmed_global.csv'\n",
    "covid_wide = pd.read_csv(url)\n",
    "covid_wide.shape"
   ]
  },
  {
   "cell_type": "code",
   "execution_count": 11,
   "id": "a10b6bd0",
   "metadata": {},
   "outputs": [
    {
     "data": {
      "text/html": [
       "<div>\n",
       "<style scoped>\n",
       "    .dataframe tbody tr th:only-of-type {\n",
       "        vertical-align: middle;\n",
       "    }\n",
       "\n",
       "    .dataframe tbody tr th {\n",
       "        vertical-align: top;\n",
       "    }\n",
       "\n",
       "    .dataframe thead th {\n",
       "        text-align: right;\n",
       "    }\n",
       "</style>\n",
       "<table border=\"1\" class=\"dataframe\">\n",
       "  <thead>\n",
       "    <tr style=\"text-align: right;\">\n",
       "      <th></th>\n",
       "      <th>Province/State</th>\n",
       "      <th>Country/Region</th>\n",
       "      <th>Lat</th>\n",
       "      <th>Long</th>\n",
       "      <th>1/22/20</th>\n",
       "      <th>1/23/20</th>\n",
       "      <th>1/24/20</th>\n",
       "      <th>1/25/20</th>\n",
       "      <th>1/26/20</th>\n",
       "      <th>1/27/20</th>\n",
       "      <th>...</th>\n",
       "      <th>2/3/22</th>\n",
       "      <th>2/4/22</th>\n",
       "      <th>2/5/22</th>\n",
       "      <th>2/6/22</th>\n",
       "      <th>2/7/22</th>\n",
       "      <th>2/8/22</th>\n",
       "      <th>2/9/22</th>\n",
       "      <th>2/10/22</th>\n",
       "      <th>2/11/22</th>\n",
       "      <th>2/12/22</th>\n",
       "    </tr>\n",
       "  </thead>\n",
       "  <tbody>\n",
       "    <tr>\n",
       "      <th>277</th>\n",
       "      <td>NaN</td>\n",
       "      <td>West Bank and Gaza</td>\n",
       "      <td>31.952200</td>\n",
       "      <td>35.233200</td>\n",
       "      <td>0</td>\n",
       "      <td>0</td>\n",
       "      <td>0</td>\n",
       "      <td>0</td>\n",
       "      <td>0</td>\n",
       "      <td>0</td>\n",
       "      <td>...</td>\n",
       "      <td>556550</td>\n",
       "      <td>556550</td>\n",
       "      <td>556550</td>\n",
       "      <td>556550</td>\n",
       "      <td>578424</td>\n",
       "      <td>586355</td>\n",
       "      <td>594037</td>\n",
       "      <td>600128</td>\n",
       "      <td>600128</td>\n",
       "      <td>600128</td>\n",
       "    </tr>\n",
       "    <tr>\n",
       "      <th>278</th>\n",
       "      <td>NaN</td>\n",
       "      <td>Winter Olympics 2022</td>\n",
       "      <td>39.904200</td>\n",
       "      <td>116.407400</td>\n",
       "      <td>0</td>\n",
       "      <td>0</td>\n",
       "      <td>0</td>\n",
       "      <td>0</td>\n",
       "      <td>0</td>\n",
       "      <td>0</td>\n",
       "      <td>...</td>\n",
       "      <td>359</td>\n",
       "      <td>380</td>\n",
       "      <td>425</td>\n",
       "      <td>435</td>\n",
       "      <td>459</td>\n",
       "      <td>465</td>\n",
       "      <td>465</td>\n",
       "      <td>465</td>\n",
       "      <td>490</td>\n",
       "      <td>498</td>\n",
       "    </tr>\n",
       "    <tr>\n",
       "      <th>279</th>\n",
       "      <td>NaN</td>\n",
       "      <td>Yemen</td>\n",
       "      <td>15.552727</td>\n",
       "      <td>48.516388</td>\n",
       "      <td>0</td>\n",
       "      <td>0</td>\n",
       "      <td>0</td>\n",
       "      <td>0</td>\n",
       "      <td>0</td>\n",
       "      <td>0</td>\n",
       "      <td>...</td>\n",
       "      <td>11145</td>\n",
       "      <td>11145</td>\n",
       "      <td>11149</td>\n",
       "      <td>11166</td>\n",
       "      <td>11266</td>\n",
       "      <td>11553</td>\n",
       "      <td>11579</td>\n",
       "      <td>11604</td>\n",
       "      <td>11659</td>\n",
       "      <td>11664</td>\n",
       "    </tr>\n",
       "    <tr>\n",
       "      <th>280</th>\n",
       "      <td>NaN</td>\n",
       "      <td>Zambia</td>\n",
       "      <td>-13.133897</td>\n",
       "      <td>27.849332</td>\n",
       "      <td>0</td>\n",
       "      <td>0</td>\n",
       "      <td>0</td>\n",
       "      <td>0</td>\n",
       "      <td>0</td>\n",
       "      <td>0</td>\n",
       "      <td>...</td>\n",
       "      <td>306347</td>\n",
       "      <td>306777</td>\n",
       "      <td>306777</td>\n",
       "      <td>307206</td>\n",
       "      <td>307317</td>\n",
       "      <td>307636</td>\n",
       "      <td>308050</td>\n",
       "      <td>308556</td>\n",
       "      <td>309013</td>\n",
       "      <td>309293</td>\n",
       "    </tr>\n",
       "    <tr>\n",
       "      <th>281</th>\n",
       "      <td>NaN</td>\n",
       "      <td>Zimbabwe</td>\n",
       "      <td>-19.015438</td>\n",
       "      <td>29.154857</td>\n",
       "      <td>0</td>\n",
       "      <td>0</td>\n",
       "      <td>0</td>\n",
       "      <td>0</td>\n",
       "      <td>0</td>\n",
       "      <td>0</td>\n",
       "      <td>...</td>\n",
       "      <td>230170</td>\n",
       "      <td>230170</td>\n",
       "      <td>230402</td>\n",
       "      <td>230402</td>\n",
       "      <td>230402</td>\n",
       "      <td>230603</td>\n",
       "      <td>230740</td>\n",
       "      <td>231040</td>\n",
       "      <td>231214</td>\n",
       "      <td>231299</td>\n",
       "    </tr>\n",
       "  </tbody>\n",
       "</table>\n",
       "<p>5 rows × 757 columns</p>\n",
       "</div>"
      ],
      "text/plain": [
       "    Province/State        Country/Region        Lat        Long  1/22/20  \\\n",
       "277            NaN    West Bank and Gaza  31.952200   35.233200        0   \n",
       "278            NaN  Winter Olympics 2022  39.904200  116.407400        0   \n",
       "279            NaN                 Yemen  15.552727   48.516388        0   \n",
       "280            NaN                Zambia -13.133897   27.849332        0   \n",
       "281            NaN              Zimbabwe -19.015438   29.154857        0   \n",
       "\n",
       "     1/23/20  1/24/20  1/25/20  1/26/20  1/27/20  ...  2/3/22  2/4/22  2/5/22  \\\n",
       "277        0        0        0        0        0  ...  556550  556550  556550   \n",
       "278        0        0        0        0        0  ...     359     380     425   \n",
       "279        0        0        0        0        0  ...   11145   11145   11149   \n",
       "280        0        0        0        0        0  ...  306347  306777  306777   \n",
       "281        0        0        0        0        0  ...  230170  230170  230402   \n",
       "\n",
       "     2/6/22  2/7/22  2/8/22  2/9/22  2/10/22  2/11/22  2/12/22  \n",
       "277  556550  578424  586355  594037   600128   600128   600128  \n",
       "278     435     459     465     465      465      490      498  \n",
       "279   11166   11266   11553   11579    11604    11659    11664  \n",
       "280  307206  307317  307636  308050   308556   309013   309293  \n",
       "281  230402  230402  230603  230740   231040   231214   231299  \n",
       "\n",
       "[5 rows x 757 columns]"
      ]
     },
     "execution_count": 11,
     "metadata": {},
     "output_type": "execute_result"
    }
   ],
   "source": [
    "covid_wide.tail()"
   ]
  },
  {
   "cell_type": "code",
   "execution_count": 33,
   "id": "5eb73d3f",
   "metadata": {},
   "outputs": [],
   "source": [
    "covid_india = covid_wide[covid_wide['Country/Region'] == 'India']\n",
    "covid_india = covid_india.melt(id_vars = ['Province/State',\t'Country/Region', 'Lat', 'Long'])\n",
    "covid_india = covid_india.rename(columns={'variable': 'Date', 'value': 'confirmed'})"
   ]
  },
  {
   "cell_type": "code",
   "execution_count": 34,
   "id": "8e329f5c",
   "metadata": {},
   "outputs": [
    {
     "data": {
      "image/png": "[encoded data removed]",
      "text/plain": [
       "<Figure size 432x288 with 1 Axes>"
      ]
     },
     "metadata": {
      "needs_background": "light"
     },
     "output_type": "display_data"
    }
   ],
   "source": [
    "#covid_india.iloc[-1,:]['confirmed']\n",
    "#covid_india['confirmed'].diff().plot.line();\n",
    "covid_india['Date'] = pd.to_datetime(covid_india['Date'], format='%m/%d/%y')\n",
    "\n",
    "#import matplotlib.pyplot as plt\n",
    "covid_india.resample(on='Date', rule='1d')['confirmed'].sum().diff().plot.line()\n",
    "plt.ylabel('Daily confirmed cases')\n",
    "plt.title('Daily covid cases in India');"
   ]
  },
  {
   "cell_type": "code",
   "execution_count": 35,
   "id": "66571161",
   "metadata": {},
   "outputs": [
    {
     "data": {
      "text/html": [
       "<div>\n",
       "<style scoped>\n",
       "    .dataframe tbody tr th:only-of-type {\n",
       "        vertical-align: middle;\n",
       "    }\n",
       "\n",
       "    .dataframe tbody tr th {\n",
       "        vertical-align: top;\n",
       "    }\n",
       "\n",
       "    .dataframe thead th {\n",
       "        text-align: right;\n",
       "    }\n",
       "</style>\n",
       "<table border=\"1\" class=\"dataframe\">\n",
       "  <thead>\n",
       "    <tr style=\"text-align: right;\">\n",
       "      <th></th>\n",
       "      <th>Country/Region</th>\n",
       "      <th>Date</th>\n",
       "      <th>confirmed</th>\n",
       "    </tr>\n",
       "  </thead>\n",
       "  <tbody>\n",
       "    <tr>\n",
       "      <th>0</th>\n",
       "      <td>Afghanistan</td>\n",
       "      <td>2020-01-22</td>\n",
       "      <td>0</td>\n",
       "    </tr>\n",
       "    <tr>\n",
       "      <th>1</th>\n",
       "      <td>Afghanistan</td>\n",
       "      <td>2020-01-23</td>\n",
       "      <td>0</td>\n",
       "    </tr>\n",
       "    <tr>\n",
       "      <th>2</th>\n",
       "      <td>Afghanistan</td>\n",
       "      <td>2020-01-24</td>\n",
       "      <td>0</td>\n",
       "    </tr>\n",
       "    <tr>\n",
       "      <th>3</th>\n",
       "      <td>Afghanistan</td>\n",
       "      <td>2020-01-25</td>\n",
       "      <td>0</td>\n",
       "    </tr>\n",
       "    <tr>\n",
       "      <th>4</th>\n",
       "      <td>Afghanistan</td>\n",
       "      <td>2020-01-26</td>\n",
       "      <td>0</td>\n",
       "    </tr>\n",
       "  </tbody>\n",
       "</table>\n",
       "</div>"
      ],
      "text/plain": [
       "  Country/Region       Date  confirmed\n",
       "0    Afghanistan 2020-01-22          0\n",
       "1    Afghanistan 2020-01-23          0\n",
       "2    Afghanistan 2020-01-24          0\n",
       "3    Afghanistan 2020-01-25          0\n",
       "4    Afghanistan 2020-01-26          0"
      ]
     },
     "execution_count": 35,
     "metadata": {},
     "output_type": "execute_result"
    }
   ],
   "source": [
    "covid_long = covid_wide.melt(id_vars=covid_wide.columns[:4])\n",
    "covid_long = covid_long.rename(columns={'variable': 'Date', 'value': 'confirmed'})\n",
    "covid_long['Date'] = pd.to_datetime(covid_long['Date'], format='%m/%d/%y')\n",
    "covid_countries = covid_long.groupby(['Country/Region', 'Date']).agg(confirmed=('confirmed', 'sum'))\n",
    "covid_countries = covid_countries.reset_index()\n",
    "covid_countries.head()"
   ]
  },
  {
   "cell_type": "code",
   "execution_count": 36,
   "id": "e005981b",
   "metadata": {},
   "outputs": [
    {
     "data": {
      "text/html": [
       "<div>\n",
       "<style scoped>\n",
       "    .dataframe tbody tr th:only-of-type {\n",
       "        vertical-align: middle;\n",
       "    }\n",
       "\n",
       "    .dataframe tbody tr th {\n",
       "        vertical-align: top;\n",
       "    }\n",
       "\n",
       "    .dataframe thead th {\n",
       "        text-align: right;\n",
       "    }\n",
       "</style>\n",
       "<table border=\"1\" class=\"dataframe\">\n",
       "  <thead>\n",
       "    <tr style=\"text-align: right;\">\n",
       "      <th></th>\n",
       "      <th>Country/Region</th>\n",
       "      <th>Date</th>\n",
       "      <th>deaths</th>\n",
       "    </tr>\n",
       "  </thead>\n",
       "  <tbody>\n",
       "    <tr>\n",
       "      <th>0</th>\n",
       "      <td>Afghanistan</td>\n",
       "      <td>2020-01-22</td>\n",
       "      <td>0</td>\n",
       "    </tr>\n",
       "    <tr>\n",
       "      <th>1</th>\n",
       "      <td>Afghanistan</td>\n",
       "      <td>2020-01-23</td>\n",
       "      <td>0</td>\n",
       "    </tr>\n",
       "    <tr>\n",
       "      <th>2</th>\n",
       "      <td>Afghanistan</td>\n",
       "      <td>2020-01-24</td>\n",
       "      <td>0</td>\n",
       "    </tr>\n",
       "    <tr>\n",
       "      <th>3</th>\n",
       "      <td>Afghanistan</td>\n",
       "      <td>2020-01-25</td>\n",
       "      <td>0</td>\n",
       "    </tr>\n",
       "    <tr>\n",
       "      <th>4</th>\n",
       "      <td>Afghanistan</td>\n",
       "      <td>2020-01-26</td>\n",
       "      <td>0</td>\n",
       "    </tr>\n",
       "  </tbody>\n",
       "</table>\n",
       "</div>"
      ],
      "text/plain": [
       "  Country/Region       Date  deaths\n",
       "0    Afghanistan 2020-01-22       0\n",
       "1    Afghanistan 2020-01-23       0\n",
       "2    Afghanistan 2020-01-24       0\n",
       "3    Afghanistan 2020-01-25       0\n",
       "4    Afghanistan 2020-01-26       0"
      ]
     },
     "execution_count": 36,
     "metadata": {},
     "output_type": "execute_result"
    }
   ],
   "source": [
    "url = 'https://raw.githubusercontent.com/CSSEGISandData/COVID-19/master/csse_covid_19_data/csse_covid_19_time_series/time_series_covid19_deaths_global.csv'\n",
    "deaths_wide = pd.read_csv(url)\n",
    "\n",
    "deaths_long = deaths_wide.melt(id_vars=deaths_wide.columns[:4])\n",
    "deaths_long = deaths_long.rename(columns={'variable': 'Date', 'value': 'deaths'})\n",
    "deaths_long['Date'] = pd.to_datetime(deaths_long['Date'], format='%m/%d/%y')\n",
    "deaths_countries = deaths_long.groupby(['Country/Region', 'Date']).agg(deaths=('deaths', 'sum'))\n",
    "deaths_countries = deaths_countries.reset_index()\n",
    "deaths_countries.head()\n"
   ]
  },
  {
   "cell_type": "code",
   "execution_count": 37,
   "id": "8f3bc830",
   "metadata": {},
   "outputs": [
    {
     "data": {
      "text/html": [
       "<div>\n",
       "<style scoped>\n",
       "    .dataframe tbody tr th:only-of-type {\n",
       "        vertical-align: middle;\n",
       "    }\n",
       "\n",
       "    .dataframe tbody tr th {\n",
       "        vertical-align: top;\n",
       "    }\n",
       "\n",
       "    .dataframe thead th {\n",
       "        text-align: right;\n",
       "    }\n",
       "</style>\n",
       "<table border=\"1\" class=\"dataframe\">\n",
       "  <thead>\n",
       "    <tr style=\"text-align: right;\">\n",
       "      <th></th>\n",
       "      <th>Country/Region</th>\n",
       "      <th>Date</th>\n",
       "      <th>confirmed</th>\n",
       "      <th>deaths</th>\n",
       "    </tr>\n",
       "  </thead>\n",
       "  <tbody>\n",
       "    <tr>\n",
       "      <th>0</th>\n",
       "      <td>Afghanistan</td>\n",
       "      <td>2020-01-22</td>\n",
       "      <td>0</td>\n",
       "      <td>0</td>\n",
       "    </tr>\n",
       "    <tr>\n",
       "      <th>1</th>\n",
       "      <td>Afghanistan</td>\n",
       "      <td>2020-01-23</td>\n",
       "      <td>0</td>\n",
       "      <td>0</td>\n",
       "    </tr>\n",
       "    <tr>\n",
       "      <th>2</th>\n",
       "      <td>Afghanistan</td>\n",
       "      <td>2020-01-24</td>\n",
       "      <td>0</td>\n",
       "      <td>0</td>\n",
       "    </tr>\n",
       "    <tr>\n",
       "      <th>3</th>\n",
       "      <td>Afghanistan</td>\n",
       "      <td>2020-01-25</td>\n",
       "      <td>0</td>\n",
       "      <td>0</td>\n",
       "    </tr>\n",
       "    <tr>\n",
       "      <th>4</th>\n",
       "      <td>Afghanistan</td>\n",
       "      <td>2020-01-26</td>\n",
       "      <td>0</td>\n",
       "      <td>0</td>\n",
       "    </tr>\n",
       "  </tbody>\n",
       "</table>\n",
       "</div>"
      ],
      "text/plain": [
       "  Country/Region       Date  confirmed  deaths\n",
       "0    Afghanistan 2020-01-22          0       0\n",
       "1    Afghanistan 2020-01-23          0       0\n",
       "2    Afghanistan 2020-01-24          0       0\n",
       "3    Afghanistan 2020-01-25          0       0\n",
       "4    Afghanistan 2020-01-26          0       0"
      ]
     },
     "execution_count": 37,
     "metadata": {},
     "output_type": "execute_result"
    }
   ],
   "source": [
    "covid = pd.merge(left=covid_countries, right=deaths_countries,\n",
    "                 left_on=['Country/Region', 'Date'],\n",
    "                 right_on=['Country/Region', 'Date'], how='left')\n",
    "covid.head()"
   ]
  },
  {
   "cell_type": "code",
   "execution_count": 38,
   "id": "dfae5881",
   "metadata": {},
   "outputs": [
    {
     "data": {
      "text/html": [
       "<div>\n",
       "<style scoped>\n",
       "    .dataframe tbody tr th:only-of-type {\n",
       "        vertical-align: middle;\n",
       "    }\n",
       "\n",
       "    .dataframe tbody tr th {\n",
       "        vertical-align: top;\n",
       "    }\n",
       "\n",
       "    .dataframe thead th {\n",
       "        text-align: right;\n",
       "    }\n",
       "</style>\n",
       "<table border=\"1\" class=\"dataframe\">\n",
       "  <thead>\n",
       "    <tr style=\"text-align: right;\">\n",
       "      <th></th>\n",
       "      <th>prod-A</th>\n",
       "      <th>prod-B</th>\n",
       "    </tr>\n",
       "    <tr>\n",
       "      <th>year</th>\n",
       "      <th></th>\n",
       "      <th></th>\n",
       "    </tr>\n",
       "  </thead>\n",
       "  <tbody>\n",
       "    <tr>\n",
       "      <th>2021</th>\n",
       "      <td>20</td>\n",
       "      <td>40</td>\n",
       "    </tr>\n",
       "  </tbody>\n",
       "</table>\n",
       "</div>"
      ],
      "text/plain": [
       "      prod-A  prod-B\n",
       "year                \n",
       "2021      20      40"
      ]
     },
     "execution_count": 38,
     "metadata": {},
     "output_type": "execute_result"
    }
   ],
   "source": [
    "df = pd.DataFrame({\n",
    "    'year': [2020, 2021],\n",
    "    'prod-A':[ 10, 20],\n",
    "    'prod-B': [30, 40],\n",
    "    'prod-C': [50, 60]\n",
    "})\n",
    "df = df.set_index('year')\n",
    "df = df.drop(2020, axis=0) # drop a row using its label\n",
    "df = df.drop(['prod-C'], axis=1) # drop a column using its column name\n",
    "df"
   ]
  },
  {
   "cell_type": "code",
   "execution_count": 39,
   "id": "4ab4518b",
   "metadata": {},
   "outputs": [
    {
     "name": "stdout",
     "output_type": "stream",
     "text": [
      "Requirement already satisfied: xlrd in c:\\users\\11602\\anaconda3\\lib\\site-packages (2.0.1)\n"
     ]
    }
   ],
   "source": [
    "!pip install xlrd"
   ]
  },
  {
   "cell_type": "code",
   "execution_count": 40,
   "id": "5e9de713",
   "metadata": {},
   "outputs": [
    {
     "data": {
      "text/plain": [
       "(541909, 8)"
      ]
     },
     "execution_count": 40,
     "metadata": {},
     "output_type": "execute_result"
    }
   ],
   "source": [
    "url = 'https://archive.ics.uci.edu/ml/machine-learning-databases/00352/Online%20Retail.xlsx'\n",
    "retail = pd.read_excel(url)\n",
    "retail.shape"
   ]
  },
  {
   "cell_type": "code",
   "execution_count": 41,
   "id": "bbeef987",
   "metadata": {},
   "outputs": [],
   "source": [
    "# Exercises\n",
    "# Identify customer with maximum invoice value\n",
    "# Convert InvoiceDate to datetime column\n",
    "# Plot daywise total sales as line chart\n",
    "# Identify the month in which the sales is usually high"
   ]
  },
  {
   "cell_type": "code",
   "execution_count": 42,
   "id": "cbfccb21",
   "metadata": {},
   "outputs": [],
   "source": [
    "retail['total_price'] = retail['UnitPrice'] * retail['Quantity']\n",
    "retail_new = retail[retail['total_price']>= 0].copy()"
   ]
  },
  {
   "cell_type": "code",
   "execution_count": 43,
   "id": "2de86bdf",
   "metadata": {},
   "outputs": [
    {
     "data": {
      "text/plain": [
       "16446.0"
      ]
     },
     "execution_count": 43,
     "metadata": {},
     "output_type": "execute_result"
    }
   ],
   "source": [
    "# Identify customer with maximum invoice value\n",
    "invoice_summary = retail_new.groupby(['CustomerID', 'InvoiceNo']).agg(\n",
    "    InvoiceAmount=('total_price', 'sum'),\n",
    "    InvoiceDate=('InvoiceDate', 'first'),\n",
    "    TotalQuantities=('Quantity', 'sum')).reset_index()\n",
    "invoice_summary.sort_values(by='InvoiceAmount', ascending=False).iloc[0]['CustomerID']"
   ]
  },
  {
   "cell_type": "code",
   "execution_count": 44,
   "id": "19f38bab",
   "metadata": {},
   "outputs": [
    {
     "data": {
      "text/html": [
       "<div>\n",
       "<style scoped>\n",
       "    .dataframe tbody tr th:only-of-type {\n",
       "        vertical-align: middle;\n",
       "    }\n",
       "\n",
       "    .dataframe tbody tr th {\n",
       "        vertical-align: top;\n",
       "    }\n",
       "\n",
       "    .dataframe thead th {\n",
       "        text-align: right;\n",
       "    }\n",
       "</style>\n",
       "<table border=\"1\" class=\"dataframe\">\n",
       "  <thead>\n",
       "    <tr style=\"text-align: right;\">\n",
       "      <th></th>\n",
       "      <th>InvoiceNo</th>\n",
       "      <th>StockCode</th>\n",
       "      <th>Description</th>\n",
       "      <th>Quantity</th>\n",
       "      <th>InvoiceDate</th>\n",
       "      <th>UnitPrice</th>\n",
       "      <th>CustomerID</th>\n",
       "      <th>Country</th>\n",
       "      <th>total_price</th>\n",
       "    </tr>\n",
       "  </thead>\n",
       "  <tbody>\n",
       "    <tr>\n",
       "      <th>0</th>\n",
       "      <td>536365</td>\n",
       "      <td>85123A</td>\n",
       "      <td>WHITE HANGING HEART T-LIGHT HOLDER</td>\n",
       "      <td>6</td>\n",
       "      <td>2010-12-01 08:26:00</td>\n",
       "      <td>2.55</td>\n",
       "      <td>17850.0</td>\n",
       "      <td>United Kingdom</td>\n",
       "      <td>15.3</td>\n",
       "    </tr>\n",
       "  </tbody>\n",
       "</table>\n",
       "</div>"
      ],
      "text/plain": [
       "  InvoiceNo StockCode                         Description  Quantity  \\\n",
       "0    536365    85123A  WHITE HANGING HEART T-LIGHT HOLDER         6   \n",
       "\n",
       "          InvoiceDate  UnitPrice  CustomerID         Country  total_price  \n",
       "0 2010-12-01 08:26:00       2.55     17850.0  United Kingdom         15.3  "
      ]
     },
     "execution_count": 44,
     "metadata": {},
     "output_type": "execute_result"
    }
   ],
   "source": [
    "retail_new.head(1)"
   ]
  },
  {
   "cell_type": "code",
   "execution_count": 45,
   "id": "a5e40abf",
   "metadata": {},
   "outputs": [
    {
     "data": {
      "image/png": "[encoded data removed]",
      "text/plain": [
       "<Figure size 432x288 with 1 Axes>"
      ]
     },
     "metadata": {
      "needs_background": "light"
     },
     "output_type": "display_data"
    }
   ],
   "source": [
    "# Convert InvoiceDate to datetime column\n",
    "retail_new['InvoiceDate'] = pd.to_datetime(retail_new['InvoiceDate'], format='%Y-%m-%d %H:%M:%S')\n",
    "\n",
    "# Plot daywise total sales as line chart\n",
    "retail_new.resample(on='InvoiceDate', rule='1d')['total_price'].sum().plot.line();"
   ]
  },
  {
   "cell_type": "code",
   "execution_count": 46,
   "id": "9a277a37",
   "metadata": {},
   "outputs": [
    {
     "data": {
      "text/plain": [
       "Timestamp('2011-11-30 00:00:00')"
      ]
     },
     "execution_count": 46,
     "metadata": {},
     "output_type": "execute_result"
    }
   ],
   "source": [
    "# Identify the month in which the total sales is high\n",
    "\n",
    "retail_new.resample(on='InvoiceDate', \n",
    "                    rule='1m')['total_price'].sum().sort_values(ascending=False).index[0]"
   ]
  },
  {
   "cell_type": "code",
   "execution_count": 47,
   "id": "6ab076c4",
   "metadata": {},
   "outputs": [
    {
     "name": "stderr",
     "output_type": "stream",
     "text": [
      "<ipython-input-47-e55ecb44b273>:1: FutureWarning: Treating datetime data as categorical rather than numeric in `.describe` is deprecated and will be removed in a future version of pandas. Specify `datetime_is_numeric=True` to silence this warning and adopt the future behavior now.\n",
      "  retail_new['InvoiceDate'].describe()\n"
     ]
    },
    {
     "data": {
      "text/plain": [
       "count                  532619\n",
       "unique                  19988\n",
       "top       2011-10-31 14:41:00\n",
       "freq                     1114\n",
       "first     2010-12-01 08:26:00\n",
       "last      2011-12-09 12:50:00\n",
       "Name: InvoiceDate, dtype: object"
      ]
     },
     "execution_count": 47,
     "metadata": {},
     "output_type": "execute_result"
    }
   ],
   "source": [
    "retail_new['InvoiceDate'].describe()"
   ]
  },
  {
   "cell_type": "code",
   "execution_count": 48,
   "id": "9ecf8cb3",
   "metadata": {},
   "outputs": [
    {
     "data": {
      "text/plain": [
       "Timestamp('2011-12-09 12:50:00')"
      ]
     },
     "execution_count": 48,
     "metadata": {},
     "output_type": "execute_result"
    }
   ],
   "source": [
    "latest_date = retail_new['InvoiceDate'].max()\n",
    "latest_date"
   ]
  },
  {
   "cell_type": "markdown",
   "id": "77054f79",
   "metadata": {},
   "source": [
    "# Customer Purchase Analysis"
   ]
  },
  {
   "cell_type": "code",
   "execution_count": 49,
   "id": "f15678ea",
   "metadata": {},
   "outputs": [],
   "source": [
    "invoice_summary = retail_new.groupby(['CustomerID', 'InvoiceNo']).agg(\n",
    "    InvoiceAmount=('total_price', 'sum'),\n",
    "    InvoiceDate=('InvoiceDate', 'first'),\n",
    "    TotalQuantities=('Quantity', 'sum')).reset_index()"
   ]
  },
  {
   "cell_type": "code",
   "execution_count": 50,
   "id": "2eafe0fc",
   "metadata": {},
   "outputs": [],
   "source": [
    "latest_date = retail_new['InvoiceDate'].max()\n",
    "customers = invoice_summary.groupby('CustomerID').agg(monetary=('InvoiceAmount','sum'),\n",
    "                                                      frequency=('InvoiceNo', 'nunique'),\n",
    "                                                      last_purchase_date=('InvoiceDate', 'max'))\n",
    "customers['recency'] = latest_date - customers['last_purchase_date']\n",
    "customers['recency'] = customers['recency'].dt.days\n",
    "#customers[customers['recency'] > 90]"
   ]
  },
  {
   "cell_type": "code",
   "execution_count": 51,
   "id": "a57525fd",
   "metadata": {},
   "outputs": [
    {
     "data": {
      "text/plain": [
       "124.0"
      ]
     },
     "execution_count": 51,
     "metadata": {},
     "output_type": "execute_result"
    }
   ],
   "source": [
    "q1 = customers['recency'].quantile(0.25)\n",
    "q2 = customers['recency'].quantile(0.5)\n",
    "q3 = customers['recency'].quantile(0.75)\n",
    "iqr = q3 - q1\n",
    "iqr"
   ]
  },
  {
   "cell_type": "code",
   "execution_count": 52,
   "id": "c17470ed",
   "metadata": {},
   "outputs": [
    {
     "data": {
      "image/png": "[encoded data removed]",
      "text/plain": [
       "<Figure size 432x288 with 1 Axes>"
      ]
     },
     "metadata": {
      "needs_background": "light"
     },
     "output_type": "display_data"
    }
   ],
   "source": [
    "customers['recency'].plot.box();"
   ]
  },
  {
   "cell_type": "markdown",
   "id": "726e840a",
   "metadata": {},
   "source": [
    "# Group customers based on recency"
   ]
  },
  {
   "cell_type": "code",
   "execution_count": 53,
   "id": "48a6e193",
   "metadata": {},
   "outputs": [
    {
     "name": "stdout",
     "output_type": "stream",
     "text": [
      "[-inf  17.  50. 141. 373.]\n"
     ]
    },
    {
     "data": {
      "text/plain": [
       "G1    1126\n",
       "G4    1084\n",
       "G3    1066\n",
       "G2    1063\n",
       "Name: recency_group, dtype: int64"
      ]
     },
     "execution_count": 53,
     "metadata": {},
     "output_type": "execute_result"
    }
   ],
   "source": [
    "bins = customers['recency'].quantile([ 0, 0.25, 0.5, 0.75, 1])\n",
    "#print(np.hstack([[-1], bins.values]))\n",
    "bins[0] = -np.inf\n",
    "print(bins.values)\n",
    "#custom_bins = [-1, 10, 30, 90, 120, np.inf]\n",
    "customers['recency_group'] = pd.cut(customers['recency'],\n",
    "                                    bins=bins,\n",
    "                                    labels=['G1', 'G2', 'G3', 'G4'])\n",
    "customers['recency_group'].value_counts()"
   ]
  },
  {
   "cell_type": "code",
   "execution_count": 54,
   "id": "8161f221",
   "metadata": {},
   "outputs": [
    {
     "data": {
      "text/plain": [
       "[100, 1600, 4, 16, 25]"
      ]
     },
     "execution_count": 54,
     "metadata": {},
     "output_type": "execute_result"
    }
   ],
   "source": [
    "def square_numbers(x):\n",
    "  '''\n",
    "  This function squares all the numbers in a list\n",
    "  '''\n",
    "  return [i*i for i in x]\n",
    "\n",
    "data = [10, 40, 2, 4, 5]\n",
    "square_numbers(data)"
   ]
  },
  {
   "cell_type": "code",
   "execution_count": 55,
   "id": "d1bb7076",
   "metadata": {},
   "outputs": [
    {
     "data": {
      "text/plain": [
       "[100, 1600, 4, 16, 25]"
      ]
     },
     "execution_count": 55,
     "metadata": {},
     "output_type": "execute_result"
    }
   ],
   "source": [
    "square_numbers = lambda x: [i*i for i in x]\n",
    "square_numbers(data)"
   ]
  },
  {
   "cell_type": "code",
   "execution_count": 56,
   "id": "74d9da62",
   "metadata": {},
   "outputs": [
    {
     "data": {
      "text/html": [
       "<div>\n",
       "<style scoped>\n",
       "    .dataframe tbody tr th:only-of-type {\n",
       "        vertical-align: middle;\n",
       "    }\n",
       "\n",
       "    .dataframe tbody tr th {\n",
       "        vertical-align: top;\n",
       "    }\n",
       "\n",
       "    .dataframe thead th {\n",
       "        text-align: right;\n",
       "    }\n",
       "</style>\n",
       "<table border=\"1\" class=\"dataframe\">\n",
       "  <thead>\n",
       "    <tr style=\"text-align: right;\">\n",
       "      <th></th>\n",
       "      <th>id</th>\n",
       "      <th>title</th>\n",
       "      <th>location</th>\n",
       "      <th>experience</th>\n",
       "      <th>skills</th>\n",
       "      <th>company</th>\n",
       "      <th>salary</th>\n",
       "      <th>description</th>\n",
       "      <th>posted_date</th>\n",
       "      <th>type</th>\n",
       "      <th>url</th>\n",
       "    </tr>\n",
       "  </thead>\n",
       "  <tbody>\n",
       "    <tr>\n",
       "      <th>0</th>\n",
       "      <td>280918001664</td>\n",
       "      <td>Data Science</td>\n",
       "      <td>Mumbai</td>\n",
       "      <td>2-4 yrs</td>\n",
       "      <td>Algorithms, Machine Learning, Python, Java, Da...</td>\n",
       "      <td>Netcore Solutions Pvt Ltd</td>\n",
       "      <td>2,00,000 - 7,00,000 P.A.</td>\n",
       "      <td>At least 2 year of experience in data engineer...</td>\n",
       "      <td>1 day ago</td>\n",
       "      <td>hotjob</td>\n",
       "      <td>https://www.naukri.com/job-listings-Data-Scien...</td>\n",
       "    </tr>\n",
       "    <tr>\n",
       "      <th>1</th>\n",
       "      <td>280818003404</td>\n",
       "      <td>Analyst / Sr. Analyst (data Science)</td>\n",
       "      <td>Gurgaon</td>\n",
       "      <td>5-8 yrs</td>\n",
       "      <td>predictive modeling, predictive analytics, mac...</td>\n",
       "      <td>Cvent India Pvt. Ltd.</td>\n",
       "      <td>5,00,000 - 10,00,000 P.A.</td>\n",
       "      <td>Strong experience on providing predictive mode...</td>\n",
       "      <td>Today</td>\n",
       "      <td>hotjob</td>\n",
       "      <td>https://www.naukri.com/job-listings-Analyst-Sr...</td>\n",
       "    </tr>\n",
       "    <tr>\n",
       "      <th>2</th>\n",
       "      <td>280918008755</td>\n",
       "      <td>ETL Lead &amp; Data Science</td>\n",
       "      <td>Chennai, Bengaluru, Mumbai, Pune, Noida</td>\n",
       "      <td>7-10 yrs</td>\n",
       "      <td>SQL, Data Analysis, Text Mining, SAS, R, Stati...</td>\n",
       "      <td>COMPUTER POWER GROUP PRIVATE LIMITED</td>\n",
       "      <td>10,00,000 - 15,00,000 P.A.</td>\n",
       "      <td>Industry experience in building and operationa...</td>\n",
       "      <td>1 day ago</td>\n",
       "      <td>hotjob</td>\n",
       "      <td>https://www.naukri.com/job-listings-ETL-Lead-D...</td>\n",
       "    </tr>\n",
       "    <tr>\n",
       "      <th>3</th>\n",
       "      <td>270918901342</td>\n",
       "      <td>Specialist - Data Science</td>\n",
       "      <td>Delhi NCR, Bengaluru, Gurgaon</td>\n",
       "      <td>7-12 yrs</td>\n",
       "      <td>Specialist - Data Science, Data Science, data ...</td>\n",
       "      <td>Brainsearch Consulting Pvt Ltd.Â</td>\n",
       "      <td>Not disclosed</td>\n",
       "      <td>- Experience with one or more data science pro...</td>\n",
       "      <td>1 day ago</td>\n",
       "      <td>premium</td>\n",
       "      <td>https://www.naukri.com/job-listings-Specialist...</td>\n",
       "    </tr>\n",
       "    <tr>\n",
       "      <th>4</th>\n",
       "      <td>260918002450</td>\n",
       "      <td>Group Manager - Data Science - Python/nlp</td>\n",
       "      <td>Bengaluru</td>\n",
       "      <td>6-11 yrs</td>\n",
       "      <td>machine learning, text mining, r, nlp, data sc...</td>\n",
       "      <td>Staffio HR</td>\n",
       "      <td>Not disclosed</td>\n",
       "      <td>- This is a Team management role  - Skill set ...</td>\n",
       "      <td>1 day ago</td>\n",
       "      <td>premium</td>\n",
       "      <td>https://www.naukri.com/job-listings-Group-Mana...</td>\n",
       "    </tr>\n",
       "  </tbody>\n",
       "</table>\n",
       "</div>"
      ],
      "text/plain": [
       "             id                                      title  \\\n",
       "0  280918001664                               Data Science   \n",
       "1  280818003404       Analyst / Sr. Analyst (data Science)   \n",
       "2  280918008755                    ETL Lead & Data Science   \n",
       "3  270918901342                  Specialist - Data Science   \n",
       "4  260918002450  Group Manager - Data Science - Python/nlp   \n",
       "\n",
       "                                  location experience  \\\n",
       "0                                   Mumbai    2-4 yrs   \n",
       "1                                  Gurgaon    5-8 yrs   \n",
       "2  Chennai, Bengaluru, Mumbai, Pune, Noida   7-10 yrs   \n",
       "3            Delhi NCR, Bengaluru, Gurgaon   7-12 yrs   \n",
       "4                                Bengaluru   6-11 yrs   \n",
       "\n",
       "                                              skills  \\\n",
       "0  Algorithms, Machine Learning, Python, Java, Da...   \n",
       "1  predictive modeling, predictive analytics, mac...   \n",
       "2  SQL, Data Analysis, Text Mining, SAS, R, Stati...   \n",
       "3  Specialist - Data Science, Data Science, data ...   \n",
       "4  machine learning, text mining, r, nlp, data sc...   \n",
       "\n",
       "                                company                            salary  \\\n",
       "0             Netcore Solutions Pvt Ltd        2,00,000 - 7,00,000 P.A.     \n",
       "1                 Cvent India Pvt. Ltd.       5,00,000 - 10,00,000 P.A.     \n",
       "2  COMPUTER POWER GROUP PRIVATE LIMITED      10,00,000 - 15,00,000 P.A.     \n",
       "3     Brainsearch Consulting Pvt Ltd.Â                     Not disclosed    \n",
       "4                            Staffio HR                    Not disclosed    \n",
       "\n",
       "                                         description posted_date     type  \\\n",
       "0  At least 2 year of experience in data engineer...   1 day ago   hotjob   \n",
       "1  Strong experience on providing predictive mode...       Today   hotjob   \n",
       "2  Industry experience in building and operationa...   1 day ago   hotjob   \n",
       "3  - Experience with one or more data science pro...   1 day ago  premium   \n",
       "4  - This is a Team management role  - Skill set ...   1 day ago  premium   \n",
       "\n",
       "                                                 url  \n",
       "0  https://www.naukri.com/job-listings-Data-Scien...  \n",
       "1  https://www.naukri.com/job-listings-Analyst-Sr...  \n",
       "2  https://www.naukri.com/job-listings-ETL-Lead-D...  \n",
       "3  https://www.naukri.com/job-listings-Specialist...  \n",
       "4  https://www.naukri.com/job-listings-Group-Mana...  "
      ]
     },
     "execution_count": 56,
     "metadata": {},
     "output_type": "execute_result"
    }
   ],
   "source": [
    "url = 'https://raw.githubusercontent.com/skathirmani/datasets/main/naukri_jobs_datascience.csv'\n",
    "jobs = pd.read_csv(url)\n",
    "jobs.head()"
   ]
  },
  {
   "cell_type": "code",
   "execution_count": null,
   "id": "96bc9aef",
   "metadata": {},
   "outputs": [],
   "source": []
  },
  {
   "cell_type": "code",
   "execution_count": null,
   "id": "b3d07d48",
   "metadata": {},
   "outputs": [],
   "source": []
  },
  {
   "cell_type": "code",
   "execution_count": null,
   "id": "37ec0d97",
   "metadata": {},
   "outputs": [],
   "source": []
  },
  {
   "cell_type": "code",
   "execution_count": null,
   "id": "7cff528b",
   "metadata": {},
   "outputs": [],
   "source": []
  }
 ],
 "metadata": {
  "kernelspec": {
   "display_name": "Python 3",
   "language": "python",
   "name": "python3"
  },
  "language_info": {
   "codemirror_mode": {
    "name": "ipython",
    "version": 3
   },
   "file_extension": ".py",
   "mimetype": "text/x-python",
   "name": "python",
   "nbconvert_exporter": "python",
   "pygments_lexer": "ipython3",
   "version": "3.8.8"
  }
 },
 "nbformat": 4,
 "nbformat_minor": 5
}
