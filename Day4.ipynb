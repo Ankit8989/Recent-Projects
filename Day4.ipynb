{
 "cells": [
  {
   "cell_type": "code",
   "execution_count": 40,
   "id": "9eb7735f",
   "metadata": {},
   "outputs": [],
   "source": [
    "import pandas as pd\n",
    "import numpy as np\n"
   ]
  },
  {
   "cell_type": "code",
   "execution_count": 42,
   "id": "bf6309ce",
   "metadata": {},
   "outputs": [
    {
     "data": {
      "text/html": [
       "<div>\n",
       "<style scoped>\n",
       "    .dataframe tbody tr th:only-of-type {\n",
       "        vertical-align: middle;\n",
       "    }\n",
       "\n",
       "    .dataframe tbody tr th {\n",
       "        vertical-align: top;\n",
       "    }\n",
       "\n",
       "    .dataframe thead th {\n",
       "        text-align: right;\n",
       "    }\n",
       "</style>\n",
       "<table border=\"1\" class=\"dataframe\">\n",
       "  <thead>\n",
       "    <tr style=\"text-align: right;\">\n",
       "      <th></th>\n",
       "      <th>AH2L9G3DQHHAJ</th>\n",
       "      <th>0000000116</th>\n",
       "      <th>4.0</th>\n",
       "      <th>1019865600</th>\n",
       "    </tr>\n",
       "  </thead>\n",
       "  <tbody>\n",
       "    <tr>\n",
       "      <th>0</th>\n",
       "      <td>A2IIIDRK3PRRZY</td>\n",
       "      <td>0000000116</td>\n",
       "      <td>1.0</td>\n",
       "      <td>1395619200</td>\n",
       "    </tr>\n",
       "    <tr>\n",
       "      <th>1</th>\n",
       "      <td>A1TADCM7YWPQ8M</td>\n",
       "      <td>0000000868</td>\n",
       "      <td>4.0</td>\n",
       "      <td>1031702400</td>\n",
       "    </tr>\n",
       "    <tr>\n",
       "      <th>2</th>\n",
       "      <td>AWGH7V0BDOJKB</td>\n",
       "      <td>0000013714</td>\n",
       "      <td>4.0</td>\n",
       "      <td>1383177600</td>\n",
       "    </tr>\n",
       "    <tr>\n",
       "      <th>3</th>\n",
       "      <td>A3UTQPQPM4TQO0</td>\n",
       "      <td>0000013714</td>\n",
       "      <td>5.0</td>\n",
       "      <td>1374883200</td>\n",
       "    </tr>\n",
       "    <tr>\n",
       "      <th>4</th>\n",
       "      <td>A8ZS0I5L5V31B</td>\n",
       "      <td>0000013714</td>\n",
       "      <td>5.0</td>\n",
       "      <td>1393632000</td>\n",
       "    </tr>\n",
       "  </tbody>\n",
       "</table>\n",
       "</div>"
      ],
      "text/plain": [
       "    AH2L9G3DQHHAJ  0000000116  4.0  1019865600\n",
       "0  A2IIIDRK3PRRZY  0000000116  1.0  1395619200\n",
       "1  A1TADCM7YWPQ8M  0000000868  4.0  1031702400\n",
       "2   AWGH7V0BDOJKB  0000013714  4.0  1383177600\n",
       "3  A3UTQPQPM4TQO0  0000013714  5.0  1374883200\n",
       "4   A8ZS0I5L5V31B  0000013714  5.0  1393632000"
      ]
     },
     "execution_count": 42,
     "metadata": {},
     "output_type": "execute_result"
    }
   ],
   "source": [
    "df=pd.read_csv('ratings_Books.csv')\n",
    "df.head()"
   ]
  },
  {
   "cell_type": "code",
   "execution_count": 5,
   "id": "e015cbf0",
   "metadata": {},
   "outputs": [
    {
     "name": "stdout",
     "output_type": "stream",
     "text": [
      "No. of chunks: 22\n"
     ]
    }
   ],
   "source": [
    "chunk_size = 1000000\n",
    "data_handler = pd.read_csv('ratings_Books.csv', chunksize=chunk_size,\n",
    "                           header=None)\n",
    "results = []\n",
    "for i, chunk_data in enumerate(data_handler):\n",
    "  rating_values = chunk_data.iloc[:, 2]\n",
    "  chunk_summary = {\n",
    "      'chunk_rating_sum': rating_values.sum(),\n",
    "      'chunk_rating_count': rating_values.count()\n",
    "  }\n",
    "  results.append(chunk_summary)\n",
    "print('No. of chunks: %d' % i)"
   ]
  },
  {
   "cell_type": "code",
   "execution_count": 6,
   "id": "4370f55e",
   "metadata": {},
   "outputs": [
    {
     "data": {
      "text/html": [
       "<div>\n",
       "<style scoped>\n",
       "    .dataframe tbody tr th:only-of-type {\n",
       "        vertical-align: middle;\n",
       "    }\n",
       "\n",
       "    .dataframe tbody tr th {\n",
       "        vertical-align: top;\n",
       "    }\n",
       "\n",
       "    .dataframe thead th {\n",
       "        text-align: right;\n",
       "    }\n",
       "</style>\n",
       "<table border=\"1\" class=\"dataframe\">\n",
       "  <thead>\n",
       "    <tr style=\"text-align: right;\">\n",
       "      <th></th>\n",
       "      <th>0</th>\n",
       "      <th>1</th>\n",
       "      <th>2</th>\n",
       "      <th>3</th>\n",
       "    </tr>\n",
       "  </thead>\n",
       "  <tbody>\n",
       "    <tr>\n",
       "      <th>22000000</th>\n",
       "      <td>A2OAAULW8CXMU1</td>\n",
       "      <td>B00HDZJN8A</td>\n",
       "      <td>3.0</td>\n",
       "      <td>1404691200</td>\n",
       "    </tr>\n",
       "    <tr>\n",
       "      <th>22000001</th>\n",
       "      <td>A3CIIU9YNK53VK</td>\n",
       "      <td>B00HDZJN8A</td>\n",
       "      <td>4.0</td>\n",
       "      <td>1401753600</td>\n",
       "    </tr>\n",
       "    <tr>\n",
       "      <th>22000002</th>\n",
       "      <td>A273ZCLTIFFDIO</td>\n",
       "      <td>B00HDZJN8A</td>\n",
       "      <td>5.0</td>\n",
       "      <td>1402617600</td>\n",
       "    </tr>\n",
       "    <tr>\n",
       "      <th>22000003</th>\n",
       "      <td>A1ZR6YCZ3HDDKI</td>\n",
       "      <td>B00HDZJN8A</td>\n",
       "      <td>5.0</td>\n",
       "      <td>1402876800</td>\n",
       "    </tr>\n",
       "    <tr>\n",
       "      <th>22000004</th>\n",
       "      <td>A39N24TTLP6I48</td>\n",
       "      <td>B00HDZJN8A</td>\n",
       "      <td>5.0</td>\n",
       "      <td>1389744000</td>\n",
       "    </tr>\n",
       "    <tr>\n",
       "      <th>...</th>\n",
       "      <td>...</td>\n",
       "      <td>...</td>\n",
       "      <td>...</td>\n",
       "      <td>...</td>\n",
       "    </tr>\n",
       "    <tr>\n",
       "      <th>22507150</th>\n",
       "      <td>A20KO0BPMNREJL</td>\n",
       "      <td>B00M13FNSS</td>\n",
       "      <td>5.0</td>\n",
       "      <td>1406073600</td>\n",
       "    </tr>\n",
       "    <tr>\n",
       "      <th>22507151</th>\n",
       "      <td>A1BQO66R6OLCCW</td>\n",
       "      <td>B00M13FNSS</td>\n",
       "      <td>5.0</td>\n",
       "      <td>1406073600</td>\n",
       "    </tr>\n",
       "    <tr>\n",
       "      <th>22507152</th>\n",
       "      <td>A1CI87FHKK6HVC</td>\n",
       "      <td>B00M13FNSS</td>\n",
       "      <td>5.0</td>\n",
       "      <td>1406073600</td>\n",
       "    </tr>\n",
       "    <tr>\n",
       "      <th>22507153</th>\n",
       "      <td>A8W4BR3HGGS3C</td>\n",
       "      <td>B00M13FNSS</td>\n",
       "      <td>5.0</td>\n",
       "      <td>1406073600</td>\n",
       "    </tr>\n",
       "    <tr>\n",
       "      <th>22507154</th>\n",
       "      <td>A2NRGE3CSFY2TQ</td>\n",
       "      <td>B00M13FNSS</td>\n",
       "      <td>5.0</td>\n",
       "      <td>1406073600</td>\n",
       "    </tr>\n",
       "  </tbody>\n",
       "</table>\n",
       "<p>507155 rows × 4 columns</p>\n",
       "</div>"
      ],
      "text/plain": [
       "                       0           1    2           3\n",
       "22000000  A2OAAULW8CXMU1  B00HDZJN8A  3.0  1404691200\n",
       "22000001  A3CIIU9YNK53VK  B00HDZJN8A  4.0  1401753600\n",
       "22000002  A273ZCLTIFFDIO  B00HDZJN8A  5.0  1402617600\n",
       "22000003  A1ZR6YCZ3HDDKI  B00HDZJN8A  5.0  1402876800\n",
       "22000004  A39N24TTLP6I48  B00HDZJN8A  5.0  1389744000\n",
       "...                  ...         ...  ...         ...\n",
       "22507150  A20KO0BPMNREJL  B00M13FNSS  5.0  1406073600\n",
       "22507151  A1BQO66R6OLCCW  B00M13FNSS  5.0  1406073600\n",
       "22507152  A1CI87FHKK6HVC  B00M13FNSS  5.0  1406073600\n",
       "22507153   A8W4BR3HGGS3C  B00M13FNSS  5.0  1406073600\n",
       "22507154  A2NRGE3CSFY2TQ  B00M13FNSS  5.0  1406073600\n",
       "\n",
       "[507155 rows x 4 columns]"
      ]
     },
     "execution_count": 6,
     "metadata": {},
     "output_type": "execute_result"
    }
   ],
   "source": [
    "chunk_data"
   ]
  },
  {
   "cell_type": "code",
   "execution_count": 7,
   "id": "bd1c27ff",
   "metadata": {},
   "outputs": [
    {
     "data": {
      "text/plain": [
       "4.29575892643917"
      ]
     },
     "execution_count": 7,
     "metadata": {},
     "output_type": "execute_result"
    }
   ],
   "source": [
    "df_results = pd.DataFrame(results)\n",
    "avg_rating = df_results['chunk_rating_sum'].sum() / df_results['chunk_rating_count'].sum()\n",
    "avg_rating"
   ]
  },
  {
   "cell_type": "code",
   "execution_count": 17,
   "id": "2f1c8aa6",
   "metadata": {},
   "outputs": [
    {
     "ename": "UnicodeDecodeError",
     "evalue": "'charmap' codec can't decode byte 0x9d in position 1935: character maps to <undefined>",
     "output_type": "error",
     "traceback": [
      "\u001b[1;31m---------------------------------------------------------------------------\u001b[0m",
      "\u001b[1;31mUnicodeDecodeError\u001b[0m                        Traceback (most recent call last)",
      "\u001b[1;32m<ipython-input-17-7e7bdc71b47b>\u001b[0m in \u001b[0;36m<module>\u001b[1;34m\u001b[0m\n\u001b[0;32m      1\u001b[0m \u001b[1;32mwith\u001b[0m \u001b[0mopen\u001b[0m\u001b[1;33m(\u001b[0m\u001b[1;34m'pg67371.txt'\u001b[0m\u001b[1;33m,\u001b[0m \u001b[1;34m'r'\u001b[0m\u001b[1;33m)\u001b[0m \u001b[1;32mas\u001b[0m \u001b[0mfile_handler\u001b[0m\u001b[1;33m:\u001b[0m\u001b[1;33m\u001b[0m\u001b[1;33m\u001b[0m\u001b[0m\n\u001b[1;32m----> 2\u001b[1;33m   \u001b[0mtext\u001b[0m \u001b[1;33m=\u001b[0m \u001b[0mfile_handler\u001b[0m\u001b[1;33m.\u001b[0m\u001b[0mread\u001b[0m\u001b[1;33m(\u001b[0m\u001b[1;33m)\u001b[0m\u001b[1;33m\u001b[0m\u001b[1;33m\u001b[0m\u001b[0m\n\u001b[0m\u001b[0;32m      3\u001b[0m \u001b[0mlen\u001b[0m\u001b[1;33m(\u001b[0m\u001b[0mtext\u001b[0m\u001b[1;33m)\u001b[0m\u001b[1;33m\u001b[0m\u001b[1;33m\u001b[0m\u001b[0m\n",
      "\u001b[1;32m~\\Anaconda3\\lib\\encodings\\cp1252.py\u001b[0m in \u001b[0;36mdecode\u001b[1;34m(self, input, final)\u001b[0m\n\u001b[0;32m     21\u001b[0m \u001b[1;32mclass\u001b[0m \u001b[0mIncrementalDecoder\u001b[0m\u001b[1;33m(\u001b[0m\u001b[0mcodecs\u001b[0m\u001b[1;33m.\u001b[0m\u001b[0mIncrementalDecoder\u001b[0m\u001b[1;33m)\u001b[0m\u001b[1;33m:\u001b[0m\u001b[1;33m\u001b[0m\u001b[1;33m\u001b[0m\u001b[0m\n\u001b[0;32m     22\u001b[0m     \u001b[1;32mdef\u001b[0m \u001b[0mdecode\u001b[0m\u001b[1;33m(\u001b[0m\u001b[0mself\u001b[0m\u001b[1;33m,\u001b[0m \u001b[0minput\u001b[0m\u001b[1;33m,\u001b[0m \u001b[0mfinal\u001b[0m\u001b[1;33m=\u001b[0m\u001b[1;32mFalse\u001b[0m\u001b[1;33m)\u001b[0m\u001b[1;33m:\u001b[0m\u001b[1;33m\u001b[0m\u001b[1;33m\u001b[0m\u001b[0m\n\u001b[1;32m---> 23\u001b[1;33m         \u001b[1;32mreturn\u001b[0m \u001b[0mcodecs\u001b[0m\u001b[1;33m.\u001b[0m\u001b[0mcharmap_decode\u001b[0m\u001b[1;33m(\u001b[0m\u001b[0minput\u001b[0m\u001b[1;33m,\u001b[0m\u001b[0mself\u001b[0m\u001b[1;33m.\u001b[0m\u001b[0merrors\u001b[0m\u001b[1;33m,\u001b[0m\u001b[0mdecoding_table\u001b[0m\u001b[1;33m)\u001b[0m\u001b[1;33m[\u001b[0m\u001b[1;36m0\u001b[0m\u001b[1;33m]\u001b[0m\u001b[1;33m\u001b[0m\u001b[1;33m\u001b[0m\u001b[0m\n\u001b[0m\u001b[0;32m     24\u001b[0m \u001b[1;33m\u001b[0m\u001b[0m\n\u001b[0;32m     25\u001b[0m \u001b[1;32mclass\u001b[0m \u001b[0mStreamWriter\u001b[0m\u001b[1;33m(\u001b[0m\u001b[0mCodec\u001b[0m\u001b[1;33m,\u001b[0m\u001b[0mcodecs\u001b[0m\u001b[1;33m.\u001b[0m\u001b[0mStreamWriter\u001b[0m\u001b[1;33m)\u001b[0m\u001b[1;33m:\u001b[0m\u001b[1;33m\u001b[0m\u001b[1;33m\u001b[0m\u001b[0m\n",
      "\u001b[1;31mUnicodeDecodeError\u001b[0m: 'charmap' codec can't decode byte 0x9d in position 1935: character maps to <undefined>"
     ]
    }
   ],
   "source": [
    "with open('pg67371.txt', 'r') as file_handler:\n",
    "  text = file_handler.read()\n",
    "len(text)"
   ]
  },
  {
   "cell_type": "code",
   "execution_count": 22,
   "id": "4c995dc4",
   "metadata": {},
   "outputs": [
    {
     "data": {
      "text/plain": [
       "b'The Project Gutenberg eBook of Bokwala, by A Congo Resident\\r\\n\\r\\nThis eBook is for the use of anyone a'"
      ]
     },
     "execution_count": 22,
     "metadata": {},
     "output_type": "execute_result"
    }
   ],
   "source": [
    "with open('pg67371.txt', 'rb') as file_handler:\n",
    "  text = file_handler.read()\n",
    "text[:100]"
   ]
  },
  {
   "cell_type": "code",
   "execution_count": 23,
   "id": "e1831e2c",
   "metadata": {},
   "outputs": [
    {
     "data": {
      "text/plain": [
       "[b'The Project Gutenberg eBook of Bokwala, by A Congo Resident\\r\\n',\n",
       " b'\\r\\n',\n",
       " b'This eBook is for the use of anyone anywhere in the United States and\\r\\n',\n",
       " b'most other parts of the world at no cost and with almost no restrictions\\r\\n',\n",
       " b'whatsoever. You may copy it, give it away or re-use it under the terms\\r\\n']"
      ]
     },
     "execution_count": 23,
     "metadata": {},
     "output_type": "execute_result"
    }
   ],
   "source": [
    "with open('pg67371.txt', 'rb') as file_handler:\n",
    "  lines = file_handler.readlines()\n",
    "lines[:5]"
   ]
  },
  {
   "cell_type": "code",
   "execution_count": 31,
   "id": "ff4c26b5",
   "metadata": {},
   "outputs": [],
   "source": [
    "file_handler = open('pg67371.txt', 'rb')\n"
   ]
  },
  {
   "cell_type": "code",
   "execution_count": 33,
   "id": "c9aa004b",
   "metadata": {},
   "outputs": [
    {
     "data": {
      "text/plain": [
       "'The Project Gutenberg eBook of Bokwala, by A Congo Resident\\r\\n'"
      ]
     },
     "execution_count": 33,
     "metadata": {},
     "output_type": "execute_result"
    }
   ],
   "source": [
    "file_handler.seek(0)  # move the cursor at begning of the file\n",
    "file_handler.readline().decode('utf-8')"
   ]
  },
  {
   "cell_type": "code",
   "execution_count": 36,
   "id": "8d36a7ad",
   "metadata": {},
   "outputs": [],
   "source": [
    "text = 'this is first line\\n'\n",
    "with open('log.txt', 'a') as file_handler:\n",
    "  file_handler.write(text)"
   ]
  },
  {
   "cell_type": "code",
   "execution_count": 37,
   "id": "ea89275b",
   "metadata": {},
   "outputs": [
    {
     "data": {
      "text/plain": [
       "'C:\\\\Users\\\\11602\\\\Desktop\\\\DS_Course\\\\Python_Classes'"
      ]
     },
     "execution_count": 37,
     "metadata": {},
     "output_type": "execute_result"
    }
   ],
   "source": [
    "import os\n",
    "os.getcwd()"
   ]
  },
  {
   "cell_type": "code",
   "execution_count": null,
   "id": "ce9dacc9",
   "metadata": {},
   "outputs": [],
   "source": []
  }
 ],
 "metadata": {
  "kernelspec": {
   "display_name": "Python 3",
   "language": "python",
   "name": "python3"
  },
  "language_info": {
   "codemirror_mode": {
    "name": "ipython",
    "version": 3
   },
   "file_extension": ".py",
   "mimetype": "text/x-python",
   "name": "python",
   "nbconvert_exporter": "python",
   "pygments_lexer": "ipython3",
   "version": "3.8.8"
  }
 },
 "nbformat": 4,
 "nbformat_minor": 5
}
