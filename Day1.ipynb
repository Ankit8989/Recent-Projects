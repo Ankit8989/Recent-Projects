{
 "cells": [
  {
   "cell_type": "code",
   "execution_count": 2,
   "id": "36137278",
   "metadata": {},
   "outputs": [],
   "source": [
    "import pandas as pd\n",
    "import numpy as np"
   ]
  },
  {
   "cell_type": "code",
   "execution_count": 3,
   "id": "85e39290",
   "metadata": {},
   "outputs": [
    {
     "data": {
      "text/plain": [
       "(55926, 8)"
      ]
     },
     "execution_count": 3,
     "metadata": {},
     "output_type": "execute_result"
    }
   ],
   "source": [
    "url = 'https://raw.githubusercontent.com/skathirmani/datasets/main/odi-batting.csv'\n",
    "odi = pd.read_csv(url)\n",
    "odi.shape"
   ]
  },
  {
   "cell_type": "code",
   "execution_count": 4,
   "id": "7fc92b29",
   "metadata": {},
   "outputs": [
    {
     "data": {
      "text/html": [
       "<div>\n",
       "<style scoped>\n",
       "    .dataframe tbody tr th:only-of-type {\n",
       "        vertical-align: middle;\n",
       "    }\n",
       "\n",
       "    .dataframe tbody tr th {\n",
       "        vertical-align: top;\n",
       "    }\n",
       "\n",
       "    .dataframe thead th {\n",
       "        text-align: right;\n",
       "    }\n",
       "</style>\n",
       "<table border=\"1\" class=\"dataframe\">\n",
       "  <thead>\n",
       "    <tr style=\"text-align: right;\">\n",
       "      <th></th>\n",
       "      <th>Country</th>\n",
       "      <th>Player</th>\n",
       "      <th>Runs</th>\n",
       "      <th>ScoreRate</th>\n",
       "      <th>MatchDate</th>\n",
       "      <th>Ground</th>\n",
       "      <th>Versus</th>\n",
       "      <th>URL</th>\n",
       "    </tr>\n",
       "  </thead>\n",
       "  <tbody>\n",
       "    <tr>\n",
       "      <th>0</th>\n",
       "      <td>Afghanistan</td>\n",
       "      <td>Mohammad Shahzad</td>\n",
       "      <td>118.0</td>\n",
       "      <td>97.52</td>\n",
       "      <td>2-16-2010</td>\n",
       "      <td>Sharjah CA Stadium</td>\n",
       "      <td>Canada</td>\n",
       "      <td>../Matches/MatchScorecard_ODI.asp?MatchCode=3087</td>\n",
       "    </tr>\n",
       "    <tr>\n",
       "      <th>1</th>\n",
       "      <td>Afghanistan</td>\n",
       "      <td>Mohammad Shahzad</td>\n",
       "      <td>110.0</td>\n",
       "      <td>99.09</td>\n",
       "      <td>9-1-2009</td>\n",
       "      <td>VRA Ground</td>\n",
       "      <td>Netherlands</td>\n",
       "      <td>../Matches/MatchScorecard_ODI.asp?MatchCode=3008</td>\n",
       "    </tr>\n",
       "    <tr>\n",
       "      <th>2</th>\n",
       "      <td>Afghanistan</td>\n",
       "      <td>Mohammad Shahzad</td>\n",
       "      <td>100.0</td>\n",
       "      <td>138.88</td>\n",
       "      <td>8-16-2010</td>\n",
       "      <td>Cambusdoon New Ground</td>\n",
       "      <td>Scotland</td>\n",
       "      <td>../Matches/MatchScorecard_ODI.asp?MatchCode=3164</td>\n",
       "    </tr>\n",
       "    <tr>\n",
       "      <th>3</th>\n",
       "      <td>Afghanistan</td>\n",
       "      <td>Mohammad Shahzad</td>\n",
       "      <td>82.0</td>\n",
       "      <td>75.92</td>\n",
       "      <td>7-10-2010</td>\n",
       "      <td>Hazelaarweg</td>\n",
       "      <td>Netherlands</td>\n",
       "      <td>../Matches/MatchScorecard_ODI.asp?MatchCode=3153</td>\n",
       "    </tr>\n",
       "    <tr>\n",
       "      <th>4</th>\n",
       "      <td>Afghanistan</td>\n",
       "      <td>Mohammad Shahzad</td>\n",
       "      <td>57.0</td>\n",
       "      <td>100.00</td>\n",
       "      <td>7-1-2010</td>\n",
       "      <td>Sportpark Westvliet</td>\n",
       "      <td>Canada</td>\n",
       "      <td>../Matches/MatchScorecard_ODI.asp?MatchCode=3135</td>\n",
       "    </tr>\n",
       "  </tbody>\n",
       "</table>\n",
       "</div>"
      ],
      "text/plain": [
       "       Country            Player   Runs  ScoreRate  MatchDate  \\\n",
       "0  Afghanistan  Mohammad Shahzad  118.0      97.52  2-16-2010   \n",
       "1  Afghanistan  Mohammad Shahzad  110.0      99.09   9-1-2009   \n",
       "2  Afghanistan  Mohammad Shahzad  100.0     138.88  8-16-2010   \n",
       "3  Afghanistan  Mohammad Shahzad   82.0      75.92  7-10-2010   \n",
       "4  Afghanistan  Mohammad Shahzad   57.0     100.00   7-1-2010   \n",
       "\n",
       "                  Ground       Versus  \\\n",
       "0     Sharjah CA Stadium       Canada   \n",
       "1             VRA Ground  Netherlands   \n",
       "2  Cambusdoon New Ground     Scotland   \n",
       "3            Hazelaarweg  Netherlands   \n",
       "4    Sportpark Westvliet       Canada   \n",
       "\n",
       "                                                URL  \n",
       "0  ../Matches/MatchScorecard_ODI.asp?MatchCode=3087  \n",
       "1  ../Matches/MatchScorecard_ODI.asp?MatchCode=3008  \n",
       "2  ../Matches/MatchScorecard_ODI.asp?MatchCode=3164  \n",
       "3  ../Matches/MatchScorecard_ODI.asp?MatchCode=3153  \n",
       "4  ../Matches/MatchScorecard_ODI.asp?MatchCode=3135  "
      ]
     },
     "execution_count": 4,
     "metadata": {},
     "output_type": "execute_result"
    }
   ],
   "source": [
    "odi.head()"
   ]
  },
  {
   "cell_type": "code",
   "execution_count": 5,
   "id": "9bade812",
   "metadata": {},
   "outputs": [
    {
     "data": {
      "text/plain": [
       "<bound method DataFrame.info of            Country               Player   Runs  ScoreRate   MatchDate  \\\n",
       "0      Afghanistan     Mohammad Shahzad  118.0      97.52   2-16-2010   \n",
       "1      Afghanistan     Mohammad Shahzad  110.0      99.09    9-1-2009   \n",
       "2      Afghanistan     Mohammad Shahzad  100.0     138.88   8-16-2010   \n",
       "3      Afghanistan     Mohammad Shahzad   82.0      75.92   7-10-2010   \n",
       "4      Afghanistan     Mohammad Shahzad   57.0     100.00    7-1-2010   \n",
       "...            ...                  ...    ...        ...         ...   \n",
       "55921     Zimbabwe  Waddington Mwayenga    0.0       0.00   5-27-2004   \n",
       "55922     Zimbabwe   Tafadzwa Kamungozi    0.0       0.00  10-10-2006   \n",
       "55923     Zimbabwe   Tafadzwa Kamungozi    0.0       0.00   10-8-2006   \n",
       "55924     Zimbabwe   Tafadzwa Kamungozi    0.0       0.00  10-13-2006   \n",
       "55925     Zimbabwe        Njabulo Ncube    0.0       0.00  10-25-2011   \n",
       "\n",
       "                       Ground       Versus  \\\n",
       "0          Sharjah CA Stadium       Canada   \n",
       "1                  VRA Ground  Netherlands   \n",
       "2       Cambusdoon New Ground     Scotland   \n",
       "3                 Hazelaarweg  Netherlands   \n",
       "4         Sportpark Westvliet       Canada   \n",
       "...                       ...          ...   \n",
       "55921      Harare Sports Club    Australia   \n",
       "55922    Sardar Patel Stadium    Sri Lanka   \n",
       "55923    Sardar Patel Stadium  West Indies   \n",
       "55924  Sawai Mansingh Stadium   Bangladesh   \n",
       "55925      Queens Sports Club  New Zealand   \n",
       "\n",
       "                                                    URL  \n",
       "0      ../Matches/MatchScorecard_ODI.asp?MatchCode=3087  \n",
       "1      ../Matches/MatchScorecard_ODI.asp?MatchCode=3008  \n",
       "2      ../Matches/MatchScorecard_ODI.asp?MatchCode=3164  \n",
       "3      ../Matches/MatchScorecard_ODI.asp?MatchCode=3153  \n",
       "4      ../Matches/MatchScorecard_ODI.asp?MatchCode=3135  \n",
       "...                                                 ...  \n",
       "55921  ../Matches/MatchScorecard_ODI.asp?MatchCode=2226  \n",
       "55922  ../Matches/MatchScorecard_ODI.asp?MatchCode=2529  \n",
       "55923  ../Matches/MatchScorecard_ODI.asp?MatchCode=2528  \n",
       "55924  ../Matches/MatchScorecard_ODI.asp?MatchCode=2531  \n",
       "55925  ../Matches/MatchScorecard_ODI.asp?MatchCode=3345  \n",
       "\n",
       "[55926 rows x 8 columns]>"
      ]
     },
     "execution_count": 5,
     "metadata": {},
     "output_type": "execute_result"
    }
   ],
   "source": [
    "odi.info"
   ]
  },
  {
   "cell_type": "code",
   "execution_count": 6,
   "id": "98d0c2fe",
   "metadata": {},
   "outputs": [
    {
     "data": {
      "text/plain": [
       "(55926, 8)"
      ]
     },
     "execution_count": 6,
     "metadata": {},
     "output_type": "execute_result"
    }
   ],
   "source": [
    "odi.shape"
   ]
  },
  {
   "cell_type": "code",
   "execution_count": 7,
   "id": "97f47d1b",
   "metadata": {},
   "outputs": [
    {
     "data": {
      "text/plain": [
       "<bound method NDFrame.describe of            Country               Player   Runs  ScoreRate   MatchDate  \\\n",
       "0      Afghanistan     Mohammad Shahzad  118.0      97.52   2-16-2010   \n",
       "1      Afghanistan     Mohammad Shahzad  110.0      99.09    9-1-2009   \n",
       "2      Afghanistan     Mohammad Shahzad  100.0     138.88   8-16-2010   \n",
       "3      Afghanistan     Mohammad Shahzad   82.0      75.92   7-10-2010   \n",
       "4      Afghanistan     Mohammad Shahzad   57.0     100.00    7-1-2010   \n",
       "...            ...                  ...    ...        ...         ...   \n",
       "55921     Zimbabwe  Waddington Mwayenga    0.0       0.00   5-27-2004   \n",
       "55922     Zimbabwe   Tafadzwa Kamungozi    0.0       0.00  10-10-2006   \n",
       "55923     Zimbabwe   Tafadzwa Kamungozi    0.0       0.00   10-8-2006   \n",
       "55924     Zimbabwe   Tafadzwa Kamungozi    0.0       0.00  10-13-2006   \n",
       "55925     Zimbabwe        Njabulo Ncube    0.0       0.00  10-25-2011   \n",
       "\n",
       "                       Ground       Versus  \\\n",
       "0          Sharjah CA Stadium       Canada   \n",
       "1                  VRA Ground  Netherlands   \n",
       "2       Cambusdoon New Ground     Scotland   \n",
       "3                 Hazelaarweg  Netherlands   \n",
       "4         Sportpark Westvliet       Canada   \n",
       "...                       ...          ...   \n",
       "55921      Harare Sports Club    Australia   \n",
       "55922    Sardar Patel Stadium    Sri Lanka   \n",
       "55923    Sardar Patel Stadium  West Indies   \n",
       "55924  Sawai Mansingh Stadium   Bangladesh   \n",
       "55925      Queens Sports Club  New Zealand   \n",
       "\n",
       "                                                    URL  \n",
       "0      ../Matches/MatchScorecard_ODI.asp?MatchCode=3087  \n",
       "1      ../Matches/MatchScorecard_ODI.asp?MatchCode=3008  \n",
       "2      ../Matches/MatchScorecard_ODI.asp?MatchCode=3164  \n",
       "3      ../Matches/MatchScorecard_ODI.asp?MatchCode=3153  \n",
       "4      ../Matches/MatchScorecard_ODI.asp?MatchCode=3135  \n",
       "...                                                 ...  \n",
       "55921  ../Matches/MatchScorecard_ODI.asp?MatchCode=2226  \n",
       "55922  ../Matches/MatchScorecard_ODI.asp?MatchCode=2529  \n",
       "55923  ../Matches/MatchScorecard_ODI.asp?MatchCode=2528  \n",
       "55924  ../Matches/MatchScorecard_ODI.asp?MatchCode=2531  \n",
       "55925  ../Matches/MatchScorecard_ODI.asp?MatchCode=3345  \n",
       "\n",
       "[55926 rows x 8 columns]>"
      ]
     },
     "execution_count": 7,
     "metadata": {},
     "output_type": "execute_result"
    }
   ],
   "source": [
    "odi.describe"
   ]
  },
  {
   "cell_type": "code",
   "execution_count": 8,
   "id": "48ffccc3",
   "metadata": {},
   "outputs": [
    {
     "data": {
      "text/plain": [
       "Country       object\n",
       "Player        object\n",
       "Runs         float64\n",
       "ScoreRate    float64\n",
       "MatchDate     object\n",
       "Ground        object\n",
       "Versus        object\n",
       "URL           object\n",
       "dtype: object"
      ]
     },
     "execution_count": 8,
     "metadata": {},
     "output_type": "execute_result"
    }
   ],
   "source": [
    "odi.dtypes"
   ]
  },
  {
   "cell_type": "code",
   "execution_count": 9,
   "id": "980f4b7b",
   "metadata": {},
   "outputs": [
    {
     "data": {
      "text/plain": [
       "0.0"
      ]
     },
     "execution_count": 9,
     "metadata": {},
     "output_type": "execute_result"
    }
   ],
   "source": [
    "num_cols=['Runs','ScoreRate']\n",
    "odi['Runs'].min()\n"
   ]
  },
  {
   "cell_type": "code",
   "execution_count": 10,
   "id": "a1dbab72",
   "metadata": {},
   "outputs": [
    {
     "data": {
      "text/plain": [
       "22.241413237924867"
      ]
     },
     "execution_count": 10,
     "metadata": {},
     "output_type": "execute_result"
    }
   ],
   "source": [
    "\n",
    "odi['Runs'].mean()"
   ]
  },
  {
   "cell_type": "code",
   "execution_count": 11,
   "id": "0554e47f",
   "metadata": {},
   "outputs": [
    {
     "data": {
      "text/plain": [
       "200.0"
      ]
     },
     "execution_count": 11,
     "metadata": {},
     "output_type": "execute_result"
    }
   ],
   "source": [
    "odi['Runs'].max()"
   ]
  },
  {
   "cell_type": "code",
   "execution_count": 12,
   "id": "1a005b83",
   "metadata": {},
   "outputs": [
    {
     "data": {
      "text/plain": [
       "count    55900.000000\n",
       "mean        22.241413\n",
       "std         25.558363\n",
       "min          0.000000\n",
       "25%          4.000000\n",
       "50%         13.000000\n",
       "75%         32.000000\n",
       "max        200.000000\n",
       "Name: Runs, dtype: float64"
      ]
     },
     "execution_count": 12,
     "metadata": {},
     "output_type": "execute_result"
    }
   ],
   "source": [
    "num_cols=['Runs','ScoreRate']\n",
    "odi['Runs'].describe()\n"
   ]
  },
  {
   "cell_type": "code",
   "execution_count": 13,
   "id": "d167cb2a",
   "metadata": {},
   "outputs": [
    {
     "data": {
      "text/plain": [
       "22"
      ]
     },
     "execution_count": 13,
     "metadata": {},
     "output_type": "execute_result"
    }
   ],
   "source": [
    "odi['Country'].nunique()  # Number of unique Country"
   ]
  },
  {
   "cell_type": "code",
   "execution_count": 14,
   "id": "863fe0e4",
   "metadata": {},
   "outputs": [
    {
     "data": {
      "text/plain": [
       "array(['Afghanistan', 'Australia', 'Bangladesh', 'Bermuda', 'Canada',\n",
       "       'East Africa', 'England', 'Hong Kong', 'India', 'Ireland', 'Kenya',\n",
       "       'Namibia', 'Netherlands', 'New Zealand', 'Pakistan', 'Scotland',\n",
       "       'South Africa', 'Sri Lanka', 'United Arab Emirates',\n",
       "       'United States', 'West Indies', 'Zimbabwe'], dtype=object)"
      ]
     },
     "execution_count": 14,
     "metadata": {},
     "output_type": "execute_result"
    }
   ],
   "source": [
    "odi['Country'].unique()  # return all the unique Values"
   ]
  },
  {
   "cell_type": "code",
   "execution_count": 15,
   "id": "6f1dd895",
   "metadata": {},
   "outputs": [
    {
     "data": {
      "text/html": [
       "<div>\n",
       "<style scoped>\n",
       "    .dataframe tbody tr th:only-of-type {\n",
       "        vertical-align: middle;\n",
       "    }\n",
       "\n",
       "    .dataframe tbody tr th {\n",
       "        vertical-align: top;\n",
       "    }\n",
       "\n",
       "    .dataframe thead th {\n",
       "        text-align: right;\n",
       "    }\n",
       "</style>\n",
       "<table border=\"1\" class=\"dataframe\">\n",
       "  <thead>\n",
       "    <tr style=\"text-align: right;\">\n",
       "      <th></th>\n",
       "      <th>Country</th>\n",
       "      <th>Player</th>\n",
       "      <th>Ground</th>\n",
       "    </tr>\n",
       "  </thead>\n",
       "  <tbody>\n",
       "    <tr>\n",
       "      <th>count</th>\n",
       "      <td>55926</td>\n",
       "      <td>55926</td>\n",
       "      <td>55926</td>\n",
       "    </tr>\n",
       "    <tr>\n",
       "      <th>unique</th>\n",
       "      <td>22</td>\n",
       "      <td>1936</td>\n",
       "      <td>178</td>\n",
       "    </tr>\n",
       "    <tr>\n",
       "      <th>top</th>\n",
       "      <td>India</td>\n",
       "      <td>Sachin R Tendulkar</td>\n",
       "      <td>Sharjah CA Stadium</td>\n",
       "    </tr>\n",
       "    <tr>\n",
       "      <th>freq</th>\n",
       "      <td>6634</td>\n",
       "      <td>442</td>\n",
       "      <td>3581</td>\n",
       "    </tr>\n",
       "  </tbody>\n",
       "</table>\n",
       "</div>"
      ],
      "text/plain": [
       "       Country              Player              Ground\n",
       "count    55926               55926               55926\n",
       "unique      22                1936                 178\n",
       "top      India  Sachin R Tendulkar  Sharjah CA Stadium\n",
       "freq      6634                 442                3581"
      ]
     },
     "execution_count": 15,
     "metadata": {},
     "output_type": "execute_result"
    }
   ],
   "source": [
    "cat_cols = ['Country', 'Player', 'Ground']\n",
    "odi[cat_cols].describe()"
   ]
  },
  {
   "cell_type": "code",
   "execution_count": 16,
   "id": "f559faef",
   "metadata": {},
   "outputs": [],
   "source": [
    "x=pd.Series(['a','a','c','c','d'])"
   ]
  },
  {
   "cell_type": "code",
   "execution_count": 17,
   "id": "25c70e19",
   "metadata": {},
   "outputs": [
    {
     "data": {
      "text/plain": [
       "a    2\n",
       "c    2\n",
       "d    1\n",
       "dtype: int64"
      ]
     },
     "execution_count": 17,
     "metadata": {},
     "output_type": "execute_result"
    }
   ],
   "source": [
    "x.value_counts()"
   ]
  },
  {
   "cell_type": "code",
   "execution_count": 18,
   "id": "b7d42f8f",
   "metadata": {},
   "outputs": [
    {
     "data": {
      "text/plain": [
       "<AxesSubplot:>"
      ]
     },
     "execution_count": 18,
     "metadata": {},
     "output_type": "execute_result"
    },
    {
     "data": {
      "image/png": "[encoded data removed]",
      "text/plain": [
       "<Figure size 432x288 with 1 Axes>"
      ]
     },
     "metadata": {
      "needs_background": "light"
     },
     "output_type": "display_data"
    }
   ],
   "source": [
    "# equals to no. of matches played by each player\n",
    "odi['Player'].value_counts().head(10).plot.barh()"
   ]
  },
  {
   "cell_type": "code",
   "execution_count": 19,
   "id": "f2ce7448",
   "metadata": {},
   "outputs": [],
   "source": [
    "# Functions learnt so far\n",
    "# .info()\n",
    "# .describe()\n",
    "# .nunique(), .unique(), .value_counts()\n",
    "# .plot.barh()\n",
    "\n",
    "# https://collabedit.com/78a5u"
   ]
  },
  {
   "cell_type": "markdown",
   "id": "bcd69f29",
   "metadata": {},
   "source": [
    "# Filtering rows"
   ]
  },
  {
   "cell_type": "code",
   "execution_count": 20,
   "id": "6034faf3",
   "metadata": {},
   "outputs": [
    {
     "data": {
      "text/plain": [
       "(442, 8)"
      ]
     },
     "execution_count": 20,
     "metadata": {},
     "output_type": "execute_result"
    }
   ],
   "source": [
    "# df[(df[col_name] == 'value')]\n",
    "# filter one column based on one value\n",
    "\n",
    "Sachin_row=odi[(odi['Player']== 'Sachin R Tendulkar')]\n",
    "Sachin_row.shape"
   ]
  },
  {
   "cell_type": "code",
   "execution_count": 21,
   "id": "4cc5bc4a",
   "metadata": {},
   "outputs": [
    {
     "data": {
      "text/plain": [
       "(826, 8)"
      ]
     },
     "execution_count": 21,
     "metadata": {},
     "output_type": "execute_result"
    }
   ],
   "source": [
    "# filter one column based on multiple values\n",
    "players = ['Sachin R Tendulkar', 'Rahul Dravid', 'Virat Kohli']\n",
    "subset = odi[(odi['Player'].isin(players))]\n",
    "subset.shape"
   ]
  },
  {
   "cell_type": "code",
   "execution_count": 22,
   "id": "e17a10f1",
   "metadata": {},
   "outputs": [
    {
     "data": {
      "text/html": [
       "<div>\n",
       "<style scoped>\n",
       "    .dataframe tbody tr th:only-of-type {\n",
       "        vertical-align: middle;\n",
       "    }\n",
       "\n",
       "    .dataframe tbody tr th {\n",
       "        vertical-align: top;\n",
       "    }\n",
       "\n",
       "    .dataframe thead th {\n",
       "        text-align: right;\n",
       "    }\n",
       "</style>\n",
       "<table border=\"1\" class=\"dataframe\">\n",
       "  <thead>\n",
       "    <tr style=\"text-align: right;\">\n",
       "      <th></th>\n",
       "      <th>Country</th>\n",
       "      <th>Player</th>\n",
       "      <th>Runs</th>\n",
       "      <th>ScoreRate</th>\n",
       "      <th>MatchDate</th>\n",
       "      <th>Ground</th>\n",
       "      <th>Versus</th>\n",
       "      <th>URL</th>\n",
       "    </tr>\n",
       "  </thead>\n",
       "  <tbody>\n",
       "    <tr>\n",
       "      <th>15150</th>\n",
       "      <td>India</td>\n",
       "      <td>Sachin R Tendulkar</td>\n",
       "      <td>200.0</td>\n",
       "      <td>136.05</td>\n",
       "      <td>2-24-2010</td>\n",
       "      <td>Captain Roop Singh Stadium</td>\n",
       "      <td>South Africa</td>\n",
       "      <td>../Matches/MatchScorecard_ODI.asp?MatchCode=3092</td>\n",
       "    </tr>\n",
       "    <tr>\n",
       "      <th>15151</th>\n",
       "      <td>India</td>\n",
       "      <td>Sachin R Tendulkar</td>\n",
       "      <td>186.0</td>\n",
       "      <td>124.00</td>\n",
       "      <td>11-8-1999</td>\n",
       "      <td>Lal Bahadur Shastri Stadium</td>\n",
       "      <td>New Zealand</td>\n",
       "      <td>../Matches/MatchScorecard_ODI.asp?MatchCode=1610</td>\n",
       "    </tr>\n",
       "    <tr>\n",
       "      <th>15152</th>\n",
       "      <td>India</td>\n",
       "      <td>Sachin R Tendulkar</td>\n",
       "      <td>175.0</td>\n",
       "      <td>124.11</td>\n",
       "      <td>11-5-2009</td>\n",
       "      <td>Rajiv Gandhi International Stadium</td>\n",
       "      <td>Australia</td>\n",
       "      <td>../Matches/MatchScorecard_ODI.asp?MatchCode=3050</td>\n",
       "    </tr>\n",
       "    <tr>\n",
       "      <th>15153</th>\n",
       "      <td>India</td>\n",
       "      <td>Sachin R Tendulkar</td>\n",
       "      <td>163.0</td>\n",
       "      <td>122.55</td>\n",
       "      <td>3-8-2009</td>\n",
       "      <td>AMI Stadium</td>\n",
       "      <td>New Zealand</td>\n",
       "      <td>../Matches/MatchScorecard_ODI.asp?MatchCode=2945</td>\n",
       "    </tr>\n",
       "    <tr>\n",
       "      <th>15154</th>\n",
       "      <td>India</td>\n",
       "      <td>Sachin R Tendulkar</td>\n",
       "      <td>152.0</td>\n",
       "      <td>100.66</td>\n",
       "      <td>2-23-2003</td>\n",
       "      <td>City Oval</td>\n",
       "      <td>Namibia</td>\n",
       "      <td>../Matches/MatchScorecard_ODI.asp?MatchCode=2052</td>\n",
       "    </tr>\n",
       "  </tbody>\n",
       "</table>\n",
       "</div>"
      ],
      "text/plain": [
       "      Country              Player   Runs  ScoreRate  MatchDate  \\\n",
       "15150   India  Sachin R Tendulkar  200.0     136.05  2-24-2010   \n",
       "15151   India  Sachin R Tendulkar  186.0     124.00  11-8-1999   \n",
       "15152   India  Sachin R Tendulkar  175.0     124.11  11-5-2009   \n",
       "15153   India  Sachin R Tendulkar  163.0     122.55   3-8-2009   \n",
       "15154   India  Sachin R Tendulkar  152.0     100.66  2-23-2003   \n",
       "\n",
       "                                   Ground        Versus  \\\n",
       "15150          Captain Roop Singh Stadium  South Africa   \n",
       "15151         Lal Bahadur Shastri Stadium   New Zealand   \n",
       "15152  Rajiv Gandhi International Stadium     Australia   \n",
       "15153                         AMI Stadium   New Zealand   \n",
       "15154                           City Oval       Namibia   \n",
       "\n",
       "                                                    URL  \n",
       "15150  ../Matches/MatchScorecard_ODI.asp?MatchCode=3092  \n",
       "15151  ../Matches/MatchScorecard_ODI.asp?MatchCode=1610  \n",
       "15152  ../Matches/MatchScorecard_ODI.asp?MatchCode=3050  \n",
       "15153  ../Matches/MatchScorecard_ODI.asp?MatchCode=2945  \n",
       "15154  ../Matches/MatchScorecard_ODI.asp?MatchCode=2052  "
      ]
     },
     "execution_count": 22,
     "metadata": {},
     "output_type": "execute_result"
    }
   ],
   "source": [
    "subset.head(5)"
   ]
  },
  {
   "cell_type": "code",
   "execution_count": 23,
   "id": "d4bed4f1",
   "metadata": {},
   "outputs": [
    {
     "data": {
      "text/plain": [
       "(48, 8)"
      ]
     },
     "execution_count": 23,
     "metadata": {},
     "output_type": "execute_result"
    }
   ],
   "source": [
    "subset2=odi[(odi['Player']=='Sachin R Tendulkar')&\n",
    "                  (odi['Runs']>99)]\n",
    "subset2.shape"
   ]
  },
  {
   "cell_type": "code",
   "execution_count": 24,
   "id": "6482d735",
   "metadata": {},
   "outputs": [
    {
     "data": {
      "text/plain": [
       "(30, 8)"
      ]
     },
     "execution_count": 24,
     "metadata": {},
     "output_type": "execute_result"
    }
   ],
   "source": [
    "# Identify number of fifties scored by 'Sachin R Tendulkar' against Australia & Pakistan\n",
    "subset = odi[(odi['Player'] == 'Sachin R Tendulkar') &\n",
    "             (odi['Runs'] >49) & (odi['Runs'] < 100) &\n",
    "             (odi['Versus'].isin(['Australia', 'Pakistan']))]\n",
    "subset.shape"
   ]
  },
  {
   "cell_type": "code",
   "execution_count": 25,
   "id": "cf554bc1",
   "metadata": {},
   "outputs": [
    {
     "data": {
      "text/html": [
       "<div>\n",
       "<style scoped>\n",
       "    .dataframe tbody tr th:only-of-type {\n",
       "        vertical-align: middle;\n",
       "    }\n",
       "\n",
       "    .dataframe tbody tr th {\n",
       "        vertical-align: top;\n",
       "    }\n",
       "\n",
       "    .dataframe thead th {\n",
       "        text-align: right;\n",
       "    }\n",
       "</style>\n",
       "<table border=\"1\" class=\"dataframe\">\n",
       "  <thead>\n",
       "    <tr style=\"text-align: right;\">\n",
       "      <th></th>\n",
       "      <th>Country</th>\n",
       "      <th>Player</th>\n",
       "    </tr>\n",
       "  </thead>\n",
       "  <tbody>\n",
       "    <tr>\n",
       "      <th>count</th>\n",
       "      <td>55926</td>\n",
       "      <td>55926</td>\n",
       "    </tr>\n",
       "    <tr>\n",
       "      <th>unique</th>\n",
       "      <td>22</td>\n",
       "      <td>1936</td>\n",
       "    </tr>\n",
       "    <tr>\n",
       "      <th>top</th>\n",
       "      <td>India</td>\n",
       "      <td>Sachin R Tendulkar</td>\n",
       "    </tr>\n",
       "    <tr>\n",
       "      <th>freq</th>\n",
       "      <td>6634</td>\n",
       "      <td>442</td>\n",
       "    </tr>\n",
       "  </tbody>\n",
       "</table>\n",
       "</div>"
      ],
      "text/plain": [
       "       Country              Player\n",
       "count    55926               55926\n",
       "unique      22                1936\n",
       "top      India  Sachin R Tendulkar\n",
       "freq      6634                 442"
      ]
     },
     "execution_count": 25,
     "metadata": {},
     "output_type": "execute_result"
    }
   ],
   "source": [
    "num_cols=['Country','Player']\n",
    "summary=odi[num_cols].describe()\n",
    "summary"
   ]
  },
  {
   "cell_type": "code",
   "execution_count": 26,
   "id": "1185edcc",
   "metadata": {},
   "outputs": [
    {
     "data": {
      "text/plain": [
       "6634"
      ]
     },
     "execution_count": 26,
     "metadata": {},
     "output_type": "execute_result"
    }
   ],
   "source": [
    "summary.iloc[3,0]  #Locate element by its row and column positions"
   ]
  },
  {
   "cell_type": "code",
   "execution_count": 27,
   "id": "3e720218",
   "metadata": {},
   "outputs": [
    {
     "data": {
      "text/plain": [
       "6634"
      ]
     },
     "execution_count": 27,
     "metadata": {},
     "output_type": "execute_result"
    }
   ],
   "source": [
    "summary.loc['freq', 'Country'] # locate element by its row & column labels"
   ]
  },
  {
   "cell_type": "code",
   "execution_count": 28,
   "id": "7f58e045",
   "metadata": {},
   "outputs": [
    {
     "data": {
      "text/html": [
       "<div>\n",
       "<style scoped>\n",
       "    .dataframe tbody tr th:only-of-type {\n",
       "        vertical-align: middle;\n",
       "    }\n",
       "\n",
       "    .dataframe tbody tr th {\n",
       "        vertical-align: top;\n",
       "    }\n",
       "\n",
       "    .dataframe thead th {\n",
       "        text-align: right;\n",
       "    }\n",
       "</style>\n",
       "<table border=\"1\" class=\"dataframe\">\n",
       "  <thead>\n",
       "    <tr style=\"text-align: right;\">\n",
       "      <th></th>\n",
       "      <th>Country</th>\n",
       "      <th>Player</th>\n",
       "    </tr>\n",
       "  </thead>\n",
       "  <tbody>\n",
       "    <tr>\n",
       "      <th>unique</th>\n",
       "      <td>22</td>\n",
       "      <td>1936</td>\n",
       "    </tr>\n",
       "    <tr>\n",
       "      <th>freq</th>\n",
       "      <td>6634</td>\n",
       "      <td>442</td>\n",
       "    </tr>\n",
       "  </tbody>\n",
       "</table>\n",
       "</div>"
      ],
      "text/plain": [
       "       Country Player\n",
       "unique      22   1936\n",
       "freq      6634    442"
      ]
     },
     "execution_count": 28,
     "metadata": {},
     "output_type": "execute_result"
    }
   ],
   "source": [
    "summary.loc[['unique', 'freq'], :]"
   ]
  },
  {
   "cell_type": "code",
   "execution_count": 29,
   "id": "4c115c5b",
   "metadata": {},
   "outputs": [
    {
     "data": {
      "text/plain": [
       "Country                                           Afghanistan\n",
       "Player                                       Mohammad Shahzad\n",
       "Runs                                                     57.0\n",
       "ScoreRate                                               100.0\n",
       "MatchDate                                            7-1-2010\n",
       "Ground                                    Sportpark Westvliet\n",
       "Versus                                                 Canada\n",
       "URL          ../Matches/MatchScorecard_ODI.asp?MatchCode=3135\n",
       "Name: 4, dtype: object"
      ]
     },
     "execution_count": 29,
     "metadata": {},
     "output_type": "execute_result"
    }
   ],
   "source": [
    "odi.iloc[4, :] # access 5th row based on its position"
   ]
  },
  {
   "cell_type": "code",
   "execution_count": 30,
   "id": "dfaa41c5",
   "metadata": {},
   "outputs": [
    {
     "data": {
      "text/plain": [
       "'Asghar Stanikzai'"
      ]
     },
     "execution_count": 30,
     "metadata": {},
     "output_type": "execute_result"
    }
   ],
   "source": [
    "odi.iloc[55, :] ['Player']# access 5th row based on its position"
   ]
  },
  {
   "cell_type": "code",
   "execution_count": 31,
   "id": "86dbc755",
   "metadata": {},
   "outputs": [],
   "source": [
    "# string search\n",
    "# Sachin, sachin, Sach\n",
    "# odi['Player'].str.contains\n",
    "# sachin_row.head()\n",
    "# import re\n",
    "# skills = ['Python-2exp', 'Java-3exp', 'Python-3exp']\n",
    "# subset = [i for i in skills if 'Python' in i]\n",
    "# df[subset]"
   ]
  },
  {
   "cell_type": "code",
   "execution_count": 32,
   "id": "9d5293d6",
   "metadata": {},
   "outputs": [],
   "source": [
    "# Functions learnt so far\n",
    "# .info()\n",
    "# .describe()\n",
    "# .nunique(), .unique(), .value_counts()\n",
    "# .plot.barh()\n",
    "# # . Filtering\n",
    "# .loc vs .iloc"
   ]
  },
  {
   "cell_type": "markdown",
   "id": "961d140d",
   "metadata": {},
   "source": [
    "# Grouping"
   ]
  },
  {
   "cell_type": "code",
   "execution_count": 33,
   "id": "80a5ddb3",
   "metadata": {},
   "outputs": [
    {
     "data": {
      "text/plain": [
       "Int64Index([15150], dtype='int64')"
      ]
     },
     "execution_count": 33,
     "metadata": {},
     "output_type": "execute_result"
    }
   ],
   "source": [
    "odi[odi['Runs'] == odi['Runs'].max()].index"
   ]
  },
  {
   "cell_type": "code",
   "execution_count": 34,
   "id": "5f809da9",
   "metadata": {},
   "outputs": [
    {
     "data": {
      "text/html": [
       "<style  type=\"text/css\" >\n",
       "#T_485ca_row0_col0,#T_485ca_row0_col1,#T_485ca_row0_col2,#T_485ca_row0_col3,#T_485ca_row0_col4{\n",
       "            background-color:  #006837;\n",
       "            color:  #f1f1f1;\n",
       "        }#T_485ca_row1_col0{\n",
       "            background-color:  #dcf08f;\n",
       "            color:  #000000;\n",
       "        }#T_485ca_row1_col1{\n",
       "            background-color:  #fff6b0;\n",
       "            color:  #000000;\n",
       "        }#T_485ca_row1_col2{\n",
       "            background-color:  #3ca959;\n",
       "            color:  #000000;\n",
       "        }#T_485ca_row1_col3{\n",
       "            background-color:  #108647;\n",
       "            color:  #000000;\n",
       "        }#T_485ca_row1_col4,#T_485ca_row2_col2{\n",
       "            background-color:  #f5fbb2;\n",
       "            color:  #000000;\n",
       "        }#T_485ca_row2_col0{\n",
       "            background-color:  #d3ec87;\n",
       "            color:  #000000;\n",
       "        }#T_485ca_row2_col1{\n",
       "            background-color:  #45ad5b;\n",
       "            color:  #000000;\n",
       "        }#T_485ca_row2_col3{\n",
       "            background-color:  #fee797;\n",
       "            color:  #000000;\n",
       "        }#T_485ca_row2_col4{\n",
       "            background-color:  #e3f399;\n",
       "            color:  #000000;\n",
       "        }#T_485ca_row3_col0,#T_485ca_row6_col1{\n",
       "            background-color:  #feeda1;\n",
       "            color:  #000000;\n",
       "        }#T_485ca_row3_col1{\n",
       "            background-color:  #d5ed88;\n",
       "            color:  #000000;\n",
       "        }#T_485ca_row3_col2{\n",
       "            background-color:  #eb5a3a;\n",
       "            color:  #000000;\n",
       "        }#T_485ca_row3_col3{\n",
       "            background-color:  #feca79;\n",
       "            color:  #000000;\n",
       "        }#T_485ca_row3_col4{\n",
       "            background-color:  #d42d27;\n",
       "            color:  #f1f1f1;\n",
       "        }#T_485ca_row4_col0{\n",
       "            background-color:  #fba35c;\n",
       "            color:  #000000;\n",
       "        }#T_485ca_row4_col1{\n",
       "            background-color:  #fee695;\n",
       "            color:  #000000;\n",
       "        }#T_485ca_row4_col2,#T_485ca_row7_col4{\n",
       "            background-color:  #fa9656;\n",
       "            color:  #000000;\n",
       "        }#T_485ca_row4_col3,#T_485ca_row4_col4{\n",
       "            background-color:  #f57547;\n",
       "            color:  #000000;\n",
       "        }#T_485ca_row5_col0{\n",
       "            background-color:  #fed07e;\n",
       "            color:  #000000;\n",
       "        }#T_485ca_row5_col1{\n",
       "            background-color:  #c3e67d;\n",
       "            color:  #000000;\n",
       "        }#T_485ca_row5_col2,#T_485ca_row6_col2,#T_485ca_row9_col4{\n",
       "            background-color:  #fed683;\n",
       "            color:  #000000;\n",
       "        }#T_485ca_row5_col3{\n",
       "            background-color:  #de402e;\n",
       "            color:  #f1f1f1;\n",
       "        }#T_485ca_row5_col4{\n",
       "            background-color:  #e34933;\n",
       "            color:  #f1f1f1;\n",
       "        }#T_485ca_row6_col0{\n",
       "            background-color:  #f7844e;\n",
       "            color:  #000000;\n",
       "        }#T_485ca_row6_col3{\n",
       "            background-color:  #c01a27;\n",
       "            color:  #f1f1f1;\n",
       "        }#T_485ca_row6_col4{\n",
       "            background-color:  #b10b26;\n",
       "            color:  #f1f1f1;\n",
       "        }#T_485ca_row7_col0,#T_485ca_row9_col0{\n",
       "            background-color:  #fee28f;\n",
       "            color:  #000000;\n",
       "        }#T_485ca_row7_col1{\n",
       "            background-color:  #57b65f;\n",
       "            color:  #000000;\n",
       "        }#T_485ca_row7_col2{\n",
       "            background-color:  #f36b42;\n",
       "            color:  #000000;\n",
       "        }#T_485ca_row7_col3,#T_485ca_row8_col3{\n",
       "            background-color:  #af0926;\n",
       "            color:  #f1f1f1;\n",
       "        }#T_485ca_row8_col0,#T_485ca_row8_col1,#T_485ca_row8_col2,#T_485ca_row8_col4,#T_485ca_row9_col3{\n",
       "            background-color:  #a50026;\n",
       "            color:  #f1f1f1;\n",
       "        }#T_485ca_row9_col1{\n",
       "            background-color:  #4bb05c;\n",
       "            color:  #000000;\n",
       "        }#T_485ca_row9_col2{\n",
       "            background-color:  #75c465;\n",
       "            color:  #000000;\n",
       "        }</style><table id=\"T_485ca_\" ><thead>    <tr>        <th class=\"blank level0\" ></th>        <th class=\"col_heading level0 col0\" >total_runs</th>        <th class=\"col_heading level0 col1\" >avg_runs</th>        <th class=\"col_heading level0 col2\" >max_runs</th>        <th class=\"col_heading level0 col3\" >Matches</th>        <th class=\"col_heading level0 col4\" >centuries</th>    </tr>    <tr>        <th class=\"index_name level0\" >Player</th>        <th class=\"blank\" ></th>        <th class=\"blank\" ></th>        <th class=\"blank\" ></th>        <th class=\"blank\" ></th>        <th class=\"blank\" ></th>    </tr></thead><tbody>\n",
       "                <tr>\n",
       "                        <th id=\"T_485ca_level0_row0\" class=\"row_heading level0 row0\" >Sachin R Tendulkar</th>\n",
       "                        <td id=\"T_485ca_row0_col0\" class=\"data row0 col0\" >18111.000000</td>\n",
       "                        <td id=\"T_485ca_row0_col1\" class=\"data row0 col1\" >40.975113</td>\n",
       "                        <td id=\"T_485ca_row0_col2\" class=\"data row0 col2\" >200.000000</td>\n",
       "                        <td id=\"T_485ca_row0_col3\" class=\"data row0 col3\" >442</td>\n",
       "                        <td id=\"T_485ca_row0_col4\" class=\"data row0 col4\" >48.000000</td>\n",
       "            </tr>\n",
       "            <tr>\n",
       "                        <th id=\"T_485ca_level0_row1\" class=\"row_heading level0 row1\" >Sanath T Jayasuriya</th>\n",
       "                        <td id=\"T_485ca_row1_col0\" class=\"data row1 col0\" >13430.000000</td>\n",
       "                        <td id=\"T_485ca_row1_col1\" class=\"data row1 col1\" >31.016166</td>\n",
       "                        <td id=\"T_485ca_row1_col2\" class=\"data row1 col2\" >189.000000</td>\n",
       "                        <td id=\"T_485ca_row1_col3\" class=\"data row1 col3\" >433</td>\n",
       "                        <td id=\"T_485ca_row1_col4\" class=\"data row1 col4\" >28.000000</td>\n",
       "            </tr>\n",
       "            <tr>\n",
       "                        <th id=\"T_485ca_level0_row2\" class=\"row_heading level0 row2\" >Ricky T Ponting</th>\n",
       "                        <td id=\"T_485ca_row2_col0\" class=\"data row2 col0\" >13686.000000</td>\n",
       "                        <td id=\"T_485ca_row2_col1\" class=\"data row2 col1\" >38.016667</td>\n",
       "                        <td id=\"T_485ca_row2_col2\" class=\"data row2 col2\" >164.000000</td>\n",
       "                        <td id=\"T_485ca_row2_col3\" class=\"data row2 col3\" >360</td>\n",
       "                        <td id=\"T_485ca_row2_col4\" class=\"data row2 col4\" >30.000000</td>\n",
       "            </tr>\n",
       "            <tr>\n",
       "                        <th id=\"T_485ca_level0_row3\" class=\"row_heading level0 row3\" >Inzamam-ul-Haq</th>\n",
       "                        <td id=\"T_485ca_row3_col0\" class=\"data row3 col0\" >11739.000000</td>\n",
       "                        <td id=\"T_485ca_row3_col1\" class=\"data row3 col1\" >33.540000</td>\n",
       "                        <td id=\"T_485ca_row3_col2\" class=\"data row3 col2\" >137.000000</td>\n",
       "                        <td id=\"T_485ca_row3_col3\" class=\"data row3 col3\" >351</td>\n",
       "                        <td id=\"T_485ca_row3_col4\" class=\"data row3 col4\" >10.000000</td>\n",
       "            </tr>\n",
       "            <tr>\n",
       "                        <th id=\"T_485ca_level0_row4\" class=\"row_heading level0 row4\" >D P Mahela Jayawardene</th>\n",
       "                        <td id=\"T_485ca_row4_col0\" class=\"data row4 col0\" >9913.000000</td>\n",
       "                        <td id=\"T_485ca_row4_col1\" class=\"data row4 col1\" >30.039394</td>\n",
       "                        <td id=\"T_485ca_row4_col2\" class=\"data row4 col2\" >144.000000</td>\n",
       "                        <td id=\"T_485ca_row4_col3\" class=\"data row4 col3\" >330</td>\n",
       "                        <td id=\"T_485ca_row4_col4\" class=\"data row4 col4\" >15.000000</td>\n",
       "            </tr>\n",
       "            <tr>\n",
       "                        <th id=\"T_485ca_level0_row5\" class=\"row_heading level0 row5\" >Rahul Dravid</th>\n",
       "                        <td id=\"T_485ca_row5_col0\" class=\"data row5 col0\" >10889.000000</td>\n",
       "                        <td id=\"T_485ca_row5_col1\" class=\"data row5 col1\" >34.242138</td>\n",
       "                        <td id=\"T_485ca_row5_col2\" class=\"data row5 col2\" >153.000000</td>\n",
       "                        <td id=\"T_485ca_row5_col3\" class=\"data row5 col3\" >318</td>\n",
       "                        <td id=\"T_485ca_row5_col4\" class=\"data row5 col4\" >12.000000</td>\n",
       "            </tr>\n",
       "            <tr>\n",
       "                        <th id=\"T_485ca_level0_row6\" class=\"row_heading level0 row6\" >Mohammad Azharuddin</th>\n",
       "                        <td id=\"T_485ca_row6_col0\" class=\"data row6 col0\" >9378.000000</td>\n",
       "                        <td id=\"T_485ca_row6_col1\" class=\"data row6 col1\" >30.448052</td>\n",
       "                        <td id=\"T_485ca_row6_col2\" class=\"data row6 col2\" >153.000000</td>\n",
       "                        <td id=\"T_485ca_row6_col3\" class=\"data row6 col3\" >308</td>\n",
       "                        <td id=\"T_485ca_row6_col4\" class=\"data row6 col4\" >7.000000</td>\n",
       "            </tr>\n",
       "            <tr>\n",
       "                        <th id=\"T_485ca_level0_row7\" class=\"row_heading level0 row7\" >Jacques H Kallis</th>\n",
       "                        <td id=\"T_485ca_row7_col0\" class=\"data row7 col0\" >11372.000000</td>\n",
       "                        <td id=\"T_485ca_row7_col1\" class=\"data row7 col1\" >37.531353</td>\n",
       "                        <td id=\"T_485ca_row7_col2\" class=\"data row7 col2\" >139.000000</td>\n",
       "                        <td id=\"T_485ca_row7_col3\" class=\"data row7 col3\" >303</td>\n",
       "                        <td id=\"T_485ca_row7_col4\" class=\"data row7 col4\" >17.000000</td>\n",
       "            </tr>\n",
       "            <tr>\n",
       "                        <th id=\"T_485ca_level0_row8\" class=\"row_heading level0 row8\" >Shahid Afridi</th>\n",
       "                        <td id=\"T_485ca_row8_col0\" class=\"data row8 col0\" >6695.000000</td>\n",
       "                        <td id=\"T_485ca_row8_col1\" class=\"data row8 col1\" >22.095710</td>\n",
       "                        <td id=\"T_485ca_row8_col2\" class=\"data row8 col2\" >124.000000</td>\n",
       "                        <td id=\"T_485ca_row8_col3\" class=\"data row8 col3\" >303</td>\n",
       "                        <td id=\"T_485ca_row8_col4\" class=\"data row8 col4\" >6.000000</td>\n",
       "            </tr>\n",
       "            <tr>\n",
       "                        <th id=\"T_485ca_level0_row9\" class=\"row_heading level0 row9\" >Sourav C Ganguly</th>\n",
       "                        <td id=\"T_485ca_row9_col0\" class=\"data row9 col0\" >11363.000000</td>\n",
       "                        <td id=\"T_485ca_row9_col1\" class=\"data row9 col1\" >37.876667</td>\n",
       "                        <td id=\"T_485ca_row9_col2\" class=\"data row9 col2\" >183.000000</td>\n",
       "                        <td id=\"T_485ca_row9_col3\" class=\"data row9 col3\" >300</td>\n",
       "                        <td id=\"T_485ca_row9_col4\" class=\"data row9 col4\" >22.000000</td>\n",
       "            </tr>\n",
       "    </tbody></table>"
      ],
      "text/plain": [
       "<pandas.io.formats.style.Styler at 0x19a256bc910>"
      ]
     },
     "execution_count": 34,
     "metadata": {},
     "output_type": "execute_result"
    }
   ],
   "source": [
    "#Playerwise total \n",
    "\n",
    "summary=odi.groupby(['Player']).agg(total_runs=('Runs','sum'),\n",
    "                                   avg_runs=('Runs','mean'),\n",
    "                                   max_runs=('Runs','max'),\n",
    "                                   Matches=('Country','count'),\n",
    "                                   centuries=('Runs',lambda run: (run>99).sum()))\n",
    "summary = summary.sort_values(by='Matches', ascending=False)\n",
    "summary.head(10).style.background_gradient(cmap='RdYlGn')                                                             "
   ]
  },
  {
   "cell_type": "code",
   "execution_count": 35,
   "id": "85ab19a6",
   "metadata": {},
   "outputs": [
    {
     "data": {
      "text/plain": [
       "(1470, 35)"
      ]
     },
     "execution_count": 35,
     "metadata": {},
     "output_type": "execute_result"
    }
   ],
   "source": [
    "url='https://raw.githubusercontent.com/skathirmani/datasets/main/employees_attrition.csv'\n",
    "employees=pd.read_csv(url)\n",
    "employees.shape"
   ]
  },
  {
   "cell_type": "markdown",
   "id": "6eb81975",
   "metadata": {},
   "source": [
    "<!--  Exercises\n",
    "Identify no. of males & females using Gender column\n",
    "Compute Department-wise the following\n",
    "No. of employees\n",
    "Min MonthlyIncome\n",
    "Max MonthlyIncome\n",
    "Avg MonthlyIncome\n",
    "Max Age\n",
    "No. of people left (Attrition==1) -->"
   ]
  },
  {
   "cell_type": "code",
   "execution_count": 36,
   "id": "4a3048b2",
   "metadata": {},
   "outputs": [],
   "source": [
    "# Exercises\n",
    "# Identify no. of males & females using Gender column\n",
    "# Compute Department-wise the following\n",
    "# No. of employees\n",
    "# Min MonthlyIncome\n",
    "# Max MonthlyIncome\n",
    "# Avg MonthlyIncome\n",
    "# Max Age\n",
    "# No. of people left (Attrition==1)"
   ]
  },
  {
   "cell_type": "code",
   "execution_count": 37,
   "id": "c91f38b8",
   "metadata": {},
   "outputs": [
    {
     "data": {
      "text/html": [
       "<div>\n",
       "<style scoped>\n",
       "    .dataframe tbody tr th:only-of-type {\n",
       "        vertical-align: middle;\n",
       "    }\n",
       "\n",
       "    .dataframe tbody tr th {\n",
       "        vertical-align: top;\n",
       "    }\n",
       "\n",
       "    .dataframe thead th {\n",
       "        text-align: right;\n",
       "    }\n",
       "</style>\n",
       "<table border=\"1\" class=\"dataframe\">\n",
       "  <thead>\n",
       "    <tr style=\"text-align: right;\">\n",
       "      <th></th>\n",
       "      <th>Age</th>\n",
       "      <th>Attrition</th>\n",
       "      <th>BusinessTravel</th>\n",
       "      <th>DailyRate</th>\n",
       "      <th>Department</th>\n",
       "      <th>DistanceFromHome</th>\n",
       "      <th>Education</th>\n",
       "      <th>EducationField</th>\n",
       "      <th>EmployeeCount</th>\n",
       "      <th>EmployeeNumber</th>\n",
       "      <th>...</th>\n",
       "      <th>RelationshipSatisfaction</th>\n",
       "      <th>StandardHours</th>\n",
       "      <th>StockOptionLevel</th>\n",
       "      <th>TotalWorkingYears</th>\n",
       "      <th>TrainingTimesLastYear</th>\n",
       "      <th>WorkLifeBalance</th>\n",
       "      <th>YearsAtCompany</th>\n",
       "      <th>YearsInCurrentRole</th>\n",
       "      <th>YearsSinceLastPromotion</th>\n",
       "      <th>YearsWithCurrManager</th>\n",
       "    </tr>\n",
       "  </thead>\n",
       "  <tbody>\n",
       "    <tr>\n",
       "      <th>0</th>\n",
       "      <td>41</td>\n",
       "      <td>1</td>\n",
       "      <td>Travel_Rarely</td>\n",
       "      <td>1102</td>\n",
       "      <td>Sales</td>\n",
       "      <td>1</td>\n",
       "      <td>2</td>\n",
       "      <td>Life Sciences</td>\n",
       "      <td>1</td>\n",
       "      <td>1</td>\n",
       "      <td>...</td>\n",
       "      <td>1</td>\n",
       "      <td>80</td>\n",
       "      <td>0</td>\n",
       "      <td>8</td>\n",
       "      <td>0</td>\n",
       "      <td>1</td>\n",
       "      <td>6</td>\n",
       "      <td>4</td>\n",
       "      <td>0</td>\n",
       "      <td>5</td>\n",
       "    </tr>\n",
       "    <tr>\n",
       "      <th>1</th>\n",
       "      <td>49</td>\n",
       "      <td>0</td>\n",
       "      <td>Travel_Frequently</td>\n",
       "      <td>279</td>\n",
       "      <td>Research &amp; Development</td>\n",
       "      <td>8</td>\n",
       "      <td>1</td>\n",
       "      <td>Life Sciences</td>\n",
       "      <td>1</td>\n",
       "      <td>2</td>\n",
       "      <td>...</td>\n",
       "      <td>4</td>\n",
       "      <td>80</td>\n",
       "      <td>1</td>\n",
       "      <td>10</td>\n",
       "      <td>3</td>\n",
       "      <td>3</td>\n",
       "      <td>10</td>\n",
       "      <td>7</td>\n",
       "      <td>1</td>\n",
       "      <td>7</td>\n",
       "    </tr>\n",
       "    <tr>\n",
       "      <th>2</th>\n",
       "      <td>37</td>\n",
       "      <td>1</td>\n",
       "      <td>Travel_Rarely</td>\n",
       "      <td>1373</td>\n",
       "      <td>Research &amp; Development</td>\n",
       "      <td>2</td>\n",
       "      <td>2</td>\n",
       "      <td>Other</td>\n",
       "      <td>1</td>\n",
       "      <td>4</td>\n",
       "      <td>...</td>\n",
       "      <td>2</td>\n",
       "      <td>80</td>\n",
       "      <td>0</td>\n",
       "      <td>7</td>\n",
       "      <td>3</td>\n",
       "      <td>3</td>\n",
       "      <td>0</td>\n",
       "      <td>0</td>\n",
       "      <td>0</td>\n",
       "      <td>0</td>\n",
       "    </tr>\n",
       "    <tr>\n",
       "      <th>3</th>\n",
       "      <td>33</td>\n",
       "      <td>0</td>\n",
       "      <td>Travel_Frequently</td>\n",
       "      <td>1392</td>\n",
       "      <td>Research &amp; Development</td>\n",
       "      <td>3</td>\n",
       "      <td>4</td>\n",
       "      <td>Life Sciences</td>\n",
       "      <td>1</td>\n",
       "      <td>5</td>\n",
       "      <td>...</td>\n",
       "      <td>3</td>\n",
       "      <td>80</td>\n",
       "      <td>0</td>\n",
       "      <td>8</td>\n",
       "      <td>3</td>\n",
       "      <td>3</td>\n",
       "      <td>8</td>\n",
       "      <td>7</td>\n",
       "      <td>3</td>\n",
       "      <td>0</td>\n",
       "    </tr>\n",
       "    <tr>\n",
       "      <th>4</th>\n",
       "      <td>27</td>\n",
       "      <td>0</td>\n",
       "      <td>Travel_Rarely</td>\n",
       "      <td>591</td>\n",
       "      <td>Research &amp; Development</td>\n",
       "      <td>2</td>\n",
       "      <td>1</td>\n",
       "      <td>Medical</td>\n",
       "      <td>1</td>\n",
       "      <td>7</td>\n",
       "      <td>...</td>\n",
       "      <td>4</td>\n",
       "      <td>80</td>\n",
       "      <td>1</td>\n",
       "      <td>6</td>\n",
       "      <td>3</td>\n",
       "      <td>3</td>\n",
       "      <td>2</td>\n",
       "      <td>2</td>\n",
       "      <td>2</td>\n",
       "      <td>2</td>\n",
       "    </tr>\n",
       "  </tbody>\n",
       "</table>\n",
       "<p>5 rows × 35 columns</p>\n",
       "</div>"
      ],
      "text/plain": [
       "   Age  Attrition     BusinessTravel  DailyRate              Department  \\\n",
       "0   41          1      Travel_Rarely       1102                   Sales   \n",
       "1   49          0  Travel_Frequently        279  Research & Development   \n",
       "2   37          1      Travel_Rarely       1373  Research & Development   \n",
       "3   33          0  Travel_Frequently       1392  Research & Development   \n",
       "4   27          0      Travel_Rarely        591  Research & Development   \n",
       "\n",
       "   DistanceFromHome  Education EducationField  EmployeeCount  EmployeeNumber  \\\n",
       "0                 1          2  Life Sciences              1               1   \n",
       "1                 8          1  Life Sciences              1               2   \n",
       "2                 2          2          Other              1               4   \n",
       "3                 3          4  Life Sciences              1               5   \n",
       "4                 2          1        Medical              1               7   \n",
       "\n",
       "   ...  RelationshipSatisfaction StandardHours  StockOptionLevel  \\\n",
       "0  ...                         1            80                 0   \n",
       "1  ...                         4            80                 1   \n",
       "2  ...                         2            80                 0   \n",
       "3  ...                         3            80                 0   \n",
       "4  ...                         4            80                 1   \n",
       "\n",
       "   TotalWorkingYears  TrainingTimesLastYear WorkLifeBalance  YearsAtCompany  \\\n",
       "0                  8                      0               1               6   \n",
       "1                 10                      3               3              10   \n",
       "2                  7                      3               3               0   \n",
       "3                  8                      3               3               8   \n",
       "4                  6                      3               3               2   \n",
       "\n",
       "  YearsInCurrentRole  YearsSinceLastPromotion  YearsWithCurrManager  \n",
       "0                  4                        0                     5  \n",
       "1                  7                        1                     7  \n",
       "2                  0                        0                     0  \n",
       "3                  7                        3                     0  \n",
       "4                  2                        2                     2  \n",
       "\n",
       "[5 rows x 35 columns]"
      ]
     },
     "execution_count": 37,
     "metadata": {},
     "output_type": "execute_result"
    }
   ],
   "source": [
    "employees.head(5)"
   ]
  },
  {
   "cell_type": "code",
   "execution_count": 39,
   "id": "c0d8c153",
   "metadata": {},
   "outputs": [
    {
     "data": {
      "text/plain": [
       "(1470, 35)"
      ]
     },
     "execution_count": 39,
     "metadata": {},
     "output_type": "execute_result"
    }
   ],
   "source": [
    "employees.shape"
   ]
  },
  {
   "cell_type": "code",
   "execution_count": 40,
   "id": "c90c9096",
   "metadata": {},
   "outputs": [
    {
     "ename": "SyntaxError",
     "evalue": "invalid syntax (<ipython-input-40-63ca531ad3f0>, line 1)",
     "output_type": "error",
     "traceback": [
      "\u001b[1;36m  File \u001b[1;32m\"<ipython-input-40-63ca531ad3f0>\"\u001b[1;36m, line \u001b[1;32m1\u001b[0m\n\u001b[1;33m    employees['Gender']==\u001b[0m\n\u001b[1;37m                         ^\u001b[0m\n\u001b[1;31mSyntaxError\u001b[0m\u001b[1;31m:\u001b[0m invalid syntax\n"
     ]
    }
   ],
   "source": [
    "employees['Gender']==\n"
   ]
  },
  {
   "cell_type": "code",
   "execution_count": 41,
   "id": "bc9921cb",
   "metadata": {},
   "outputs": [
    {
     "data": {
      "text/plain": [
       "Index(['Age', 'Attrition', 'BusinessTravel', 'DailyRate', 'Department',\n",
       "       'DistanceFromHome', 'Education', 'EducationField', 'EmployeeCount',\n",
       "       'EmployeeNumber', 'EnvironmentSatisfaction', 'Gender', 'HourlyRate',\n",
       "       'JobInvolvement', 'JobLevel', 'JobRole', 'JobSatisfaction',\n",
       "       'MaritalStatus', 'MonthlyIncome', 'MonthlyRate', 'NumCompaniesWorked',\n",
       "       'Over18', 'OverTime', 'PercentSalaryHike', 'PerformanceRating',\n",
       "       'RelationshipSatisfaction', 'StandardHours', 'StockOptionLevel',\n",
       "       'TotalWorkingYears', 'TrainingTimesLastYear', 'WorkLifeBalance',\n",
       "       'YearsAtCompany', 'YearsInCurrentRole', 'YearsSinceLastPromotion',\n",
       "       'YearsWithCurrManager'],\n",
       "      dtype='object')"
      ]
     },
     "execution_count": 41,
     "metadata": {},
     "output_type": "execute_result"
    }
   ],
   "source": [
    "employees.columns"
   ]
  },
  {
   "cell_type": "code",
   "execution_count": 42,
   "id": "0ea58b24",
   "metadata": {},
   "outputs": [
    {
     "data": {
      "text/plain": [
       "1470"
      ]
     },
     "execution_count": 42,
     "metadata": {},
     "output_type": "execute_result"
    }
   ],
   "source": [
    "employees['EmployeeNumber'].nunique() # no. of No. of employees"
   ]
  },
  {
   "cell_type": "code",
   "execution_count": 43,
   "id": "04a9692c",
   "metadata": {},
   "outputs": [
    {
     "name": "stdout",
     "output_type": "stream",
     "text": [
      "Females: (588, 35)\n"
     ]
    }
   ],
   "source": [
    "#Count number of Female and Male\n",
    "\n",
    "Female=employees[(employees['Gender']=='Female')].shape\n",
    "\n",
    "print('Females:',Female)"
   ]
  },
  {
   "cell_type": "code",
   "execution_count": 44,
   "id": "c16136c8",
   "metadata": {},
   "outputs": [
    {
     "name": "stdout",
     "output_type": "stream",
     "text": [
      "Males: (882, 35)\n"
     ]
    }
   ],
   "source": [
    "#Count number of Female and Male\n",
    "\n",
    "Male=employees[(employees['Gender']=='Male')].shape\n",
    "\n",
    "print('Males:',Male)"
   ]
  },
  {
   "cell_type": "code",
   "execution_count": 45,
   "id": "ba63cec1",
   "metadata": {},
   "outputs": [
    {
     "data": {
      "text/html": [
       "<style  type=\"text/css\" >\n",
       "#T_5b8f4_row0_col0,#T_5b8f4_row0_col2,#T_5b8f4_row0_col4,#T_5b8f4_row0_col5,#T_5b8f4_row1_col1,#T_5b8f4_row1_col3{\n",
       "            background-color:  #a50026;\n",
       "            color:  #f1f1f1;\n",
       "        }#T_5b8f4_row0_col1{\n",
       "            background-color:  #ecf7a6;\n",
       "            color:  #000000;\n",
       "        }#T_5b8f4_row0_col3,#T_5b8f4_row1_col0,#T_5b8f4_row1_col2,#T_5b8f4_row1_col4,#T_5b8f4_row1_col5,#T_5b8f4_row2_col1,#T_5b8f4_row2_col4{\n",
       "            background-color:  #006837;\n",
       "            color:  #f1f1f1;\n",
       "        }#T_5b8f4_row2_col0{\n",
       "            background-color:  #fee999;\n",
       "            color:  #000000;\n",
       "        }#T_5b8f4_row2_col2{\n",
       "            background-color:  #fff3ac;\n",
       "            color:  #000000;\n",
       "        }#T_5b8f4_row2_col3{\n",
       "            background-color:  #cc2627;\n",
       "            color:  #f1f1f1;\n",
       "        }#T_5b8f4_row2_col5{\n",
       "            background-color:  #b9e176;\n",
       "            color:  #000000;\n",
       "        }</style><table id=\"T_5b8f4_\" ><thead>    <tr>        <th class=\"blank level0\" ></th>        <th class=\"col_heading level0 col0\" >No_Employees</th>        <th class=\"col_heading level0 col1\" >avg_Income</th>        <th class=\"col_heading level0 col2\" >max_Income</th>        <th class=\"col_heading level0 col3\" >min_Income</th>        <th class=\"col_heading level0 col4\" >Max_Age</th>        <th class=\"col_heading level0 col5\" >people_left</th>    </tr>    <tr>        <th class=\"index_name level0\" >Department</th>        <th class=\"blank\" ></th>        <th class=\"blank\" ></th>        <th class=\"blank\" ></th>        <th class=\"blank\" ></th>        <th class=\"blank\" ></th>        <th class=\"blank\" ></th>    </tr></thead><tbody>\n",
       "                <tr>\n",
       "                        <th id=\"T_5b8f4_level0_row0\" class=\"row_heading level0 row0\" >Human Resources</th>\n",
       "                        <td id=\"T_5b8f4_row0_col0\" class=\"data row0 col0\" >63</td>\n",
       "                        <td id=\"T_5b8f4_row0_col1\" class=\"data row0 col1\" >6654.507937</td>\n",
       "                        <td id=\"T_5b8f4_row0_col2\" class=\"data row0 col2\" >19717</td>\n",
       "                        <td id=\"T_5b8f4_row0_col3\" class=\"data row0 col3\" >1555</td>\n",
       "                        <td id=\"T_5b8f4_row0_col4\" class=\"data row0 col4\" >59</td>\n",
       "                        <td id=\"T_5b8f4_row0_col5\" class=\"data row0 col5\" >12</td>\n",
       "            </tr>\n",
       "            <tr>\n",
       "                        <th id=\"T_5b8f4_level0_row1\" class=\"row_heading level0 row1\" >Research & Development</th>\n",
       "                        <td id=\"T_5b8f4_row1_col0\" class=\"data row1 col0\" >961</td>\n",
       "                        <td id=\"T_5b8f4_row1_col1\" class=\"data row1 col1\" >6281.252862</td>\n",
       "                        <td id=\"T_5b8f4_row1_col2\" class=\"data row1 col2\" >19999</td>\n",
       "                        <td id=\"T_5b8f4_row1_col3\" class=\"data row1 col3\" >1009</td>\n",
       "                        <td id=\"T_5b8f4_row1_col4\" class=\"data row1 col4\" >60</td>\n",
       "                        <td id=\"T_5b8f4_row1_col5\" class=\"data row1 col5\" >133</td>\n",
       "            </tr>\n",
       "            <tr>\n",
       "                        <th id=\"T_5b8f4_level0_row2\" class=\"row_heading level0 row2\" >Sales</th>\n",
       "                        <td id=\"T_5b8f4_row2_col0\" class=\"data row2 col0\" >446</td>\n",
       "                        <td id=\"T_5b8f4_row2_col1\" class=\"data row2 col1\" >6959.172646</td>\n",
       "                        <td id=\"T_5b8f4_row2_col2\" class=\"data row2 col2\" >19847</td>\n",
       "                        <td id=\"T_5b8f4_row2_col3\" class=\"data row2 col3\" >1052</td>\n",
       "                        <td id=\"T_5b8f4_row2_col4\" class=\"data row2 col4\" >60</td>\n",
       "                        <td id=\"T_5b8f4_row2_col5\" class=\"data row2 col5\" >92</td>\n",
       "            </tr>\n",
       "    </tbody></table>"
      ],
      "text/plain": [
       "<pandas.io.formats.style.Styler at 0x19a257759a0>"
      ]
     },
     "execution_count": 45,
     "metadata": {},
     "output_type": "execute_result"
    }
   ],
   "source": [
    "#Playerwise total \n",
    "\n",
    "summary=employees.groupby(['Department']).agg(No_Employees=('JobRole','count'),\n",
    "                                   avg_Income=('MonthlyIncome','mean'),\n",
    "                                   max_Income=('MonthlyIncome','max'),\n",
    "                                   min_Income=('MonthlyIncome','min'),\n",
    "                                   Max_Age=('Age','max'),\n",
    "                                   people_left=('Attrition','sum'))\n",
    "#summary =summary.sort_values(by='Attrition', ascending=False)\n",
    "summary.head(10).style.background_gradient(cmap='RdYlGn')                                                             "
   ]
  },
  {
   "cell_type": "markdown",
   "id": "54b3d27a",
   "metadata": {},
   "source": [
    "# Handling date columns"
   ]
  },
  {
   "cell_type": "code",
   "execution_count": 46,
   "id": "93099c1e",
   "metadata": {},
   "outputs": [
    {
     "data": {
      "text/plain": [
       "0    2-16-2010\n",
       "1     9-1-2009\n",
       "2    8-16-2010\n",
       "3    7-10-2010\n",
       "4     7-1-2010\n",
       "Name: MatchDate, dtype: object"
      ]
     },
     "execution_count": 46,
     "metadata": {},
     "output_type": "execute_result"
    }
   ],
   "source": [
    "odi['MatchDate'].head()"
   ]
  },
  {
   "cell_type": "code",
   "execution_count": 47,
   "id": "65769033",
   "metadata": {},
   "outputs": [
    {
     "data": {
      "text/html": [
       "<div>\n",
       "<style scoped>\n",
       "    .dataframe tbody tr th:only-of-type {\n",
       "        vertical-align: middle;\n",
       "    }\n",
       "\n",
       "    .dataframe tbody tr th {\n",
       "        vertical-align: top;\n",
       "    }\n",
       "\n",
       "    .dataframe thead th {\n",
       "        text-align: right;\n",
       "    }\n",
       "</style>\n",
       "<table border=\"1\" class=\"dataframe\">\n",
       "  <thead>\n",
       "    <tr style=\"text-align: right;\">\n",
       "      <th></th>\n",
       "      <th>date</th>\n",
       "      <th>year</th>\n",
       "      <th>day</th>\n",
       "      <th>month</th>\n",
       "    </tr>\n",
       "  </thead>\n",
       "  <tbody>\n",
       "    <tr>\n",
       "      <th>0</th>\n",
       "      <td>2010-02-16</td>\n",
       "      <td>2010</td>\n",
       "      <td>16</td>\n",
       "      <td>2</td>\n",
       "    </tr>\n",
       "    <tr>\n",
       "      <th>1</th>\n",
       "      <td>2009-09-01</td>\n",
       "      <td>2009</td>\n",
       "      <td>1</td>\n",
       "      <td>9</td>\n",
       "    </tr>\n",
       "    <tr>\n",
       "      <th>2</th>\n",
       "      <td>2010-08-16</td>\n",
       "      <td>2010</td>\n",
       "      <td>16</td>\n",
       "      <td>8</td>\n",
       "    </tr>\n",
       "    <tr>\n",
       "      <th>3</th>\n",
       "      <td>2010-07-10</td>\n",
       "      <td>2010</td>\n",
       "      <td>10</td>\n",
       "      <td>7</td>\n",
       "    </tr>\n",
       "    <tr>\n",
       "      <th>4</th>\n",
       "      <td>2010-07-01</td>\n",
       "      <td>2010</td>\n",
       "      <td>1</td>\n",
       "      <td>7</td>\n",
       "    </tr>\n",
       "    <tr>\n",
       "      <th>5</th>\n",
       "      <td>2010-07-07</td>\n",
       "      <td>2010</td>\n",
       "      <td>7</td>\n",
       "      <td>7</td>\n",
       "    </tr>\n",
       "  </tbody>\n",
       "</table>\n",
       "</div>"
      ],
      "text/plain": [
       "        date  year  day  month\n",
       "0 2010-02-16  2010   16      2\n",
       "1 2009-09-01  2009    1      9\n",
       "2 2010-08-16  2010   16      8\n",
       "3 2010-07-10  2010   10      7\n",
       "4 2010-07-01  2010    1      7\n",
       "5 2010-07-07  2010    7      7"
      ]
     },
     "execution_count": 47,
     "metadata": {},
     "output_type": "execute_result"
    }
   ],
   "source": [
    "odi['date'] = pd.to_datetime(odi['MatchDate'], format='%m-%d-%Y')\n",
    "odi['year'] = odi['date'].dt.year\n",
    "odi['day'] = odi['date'].dt.day\n",
    "odi['month'] = odi['date'].dt.month\n",
    "odi.loc[0:5, ['date', 'year', 'day', 'month']]"
   ]
  },
  {
   "cell_type": "code",
   "execution_count": 48,
   "id": "7d5155ae",
   "metadata": {},
   "outputs": [
    {
     "data": {
      "image/png": "[encoded data removed]",
      "text/plain": [
       "<Figure size 432x288 with 1 Axes>"
      ]
     },
     "metadata": {
      "needs_background": "light"
     },
     "output_type": "display_data"
    }
   ],
   "source": [
    "summary = odi[odi['Player'] == 'Rahul Dravid'].resample(on='date', rule='1A')['Runs'].sum()\n",
    "summary.plot.line();"
   ]
  },
  {
   "cell_type": "code",
   "execution_count": null,
   "id": "efc9dcb2",
   "metadata": {},
   "outputs": [],
   "source": []
  }
 ],
 "metadata": {
  "kernelspec": {
   "display_name": "Python 3",
   "language": "python",
   "name": "python3"
  },
  "language_info": {
   "codemirror_mode": {
    "name": "ipython",
    "version": 3
   },
   "file_extension": ".py",
   "mimetype": "text/x-python",
   "name": "python",
   "nbconvert_exporter": "python",
   "pygments_lexer": "ipython3",
   "version": "3.8.8"
  }
 },
 "nbformat": 4,
 "nbformat_minor": 5
}
